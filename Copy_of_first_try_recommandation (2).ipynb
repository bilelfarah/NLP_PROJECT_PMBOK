{
  "nbformat": 4,
  "nbformat_minor": 0,
  "metadata": {
    "colab": {
      "provenance": []
    },
    "kernelspec": {
      "name": "python3",
      "display_name": "Python 3"
    },
    "language_info": {
      "name": "python"
    }
  },
  "cells": [
    {
      "cell_type": "code",
      "execution_count": null,
      "metadata": {
        "colab": {
          "base_uri": "https://localhost:8080/"
        },
        "id": "qEynIYN6Dir_",
        "outputId": "03b303c8-0c15-4a94-8c1f-a99120fa45d0"
      },
      "outputs": [
        {
          "output_type": "stream",
          "name": "stdout",
          "text": [
            "Looking in indexes: https://pypi.org/simple, https://us-python.pkg.dev/colab-wheels/public/simple/\n",
            "Collecting Owlready2\n",
            "  Downloading Owlready2-0.39.tar.gz (25.5 MB)\n",
            "\u001b[K     |████████████████████████████████| 25.5 MB 50.7 MB/s \n",
            "\u001b[?25hBuilding wheels for collected packages: Owlready2\n",
            "  Building wheel for Owlready2 (setup.py) ... \u001b[?25l\u001b[?25hdone\n",
            "  Created wheel for Owlready2: filename=Owlready2-0.39-cp37-cp37m-linux_x86_64.whl size=22132082 sha256=2132ff56dc10734e34baa34b63d88cdc67de647cba475979f74d2614e16e46ef\n",
            "  Stored in directory: /root/.cache/pip/wheels/c9/5b/fc/da1e42a17f22cd62bfb170f847a3fb541a7f628858ad3595ec\n",
            "Successfully built Owlready2\n",
            "Installing collected packages: Owlready2\n",
            "Successfully installed Owlready2-0.39\n"
          ]
        }
      ],
      "source": [
        "!pip install Owlready2"
      ]
    },
    {
      "cell_type": "code",
      "source": [
        "! pip install sentence_transformers"
      ],
      "metadata": {
        "id": "7pW-DiCnQ1sX",
        "colab": {
          "base_uri": "https://localhost:8080/"
        },
        "outputId": "065adbc0-62b9-42df-f98d-151cfe5b5386"
      },
      "execution_count": null,
      "outputs": [
        {
          "output_type": "stream",
          "name": "stdout",
          "text": [
            "Looking in indexes: https://pypi.org/simple, https://us-python.pkg.dev/colab-wheels/public/simple/\n",
            "Collecting sentence_transformers\n",
            "  Downloading sentence-transformers-2.2.2.tar.gz (85 kB)\n",
            "\u001b[K     |████████████████████████████████| 85 kB 3.3 MB/s \n",
            "\u001b[?25hCollecting transformers<5.0.0,>=4.6.0\n",
            "  Downloading transformers-4.24.0-py3-none-any.whl (5.5 MB)\n",
            "\u001b[K     |████████████████████████████████| 5.5 MB 15.6 MB/s \n",
            "\u001b[?25hRequirement already satisfied: tqdm in /usr/local/lib/python3.7/dist-packages (from sentence_transformers) (4.64.1)\n",
            "Requirement already satisfied: torch>=1.6.0 in /usr/local/lib/python3.7/dist-packages (from sentence_transformers) (1.12.1+cu113)\n",
            "Requirement already satisfied: torchvision in /usr/local/lib/python3.7/dist-packages (from sentence_transformers) (0.13.1+cu113)\n",
            "Requirement already satisfied: numpy in /usr/local/lib/python3.7/dist-packages (from sentence_transformers) (1.21.6)\n",
            "Requirement already satisfied: scikit-learn in /usr/local/lib/python3.7/dist-packages (from sentence_transformers) (1.0.2)\n",
            "Requirement already satisfied: scipy in /usr/local/lib/python3.7/dist-packages (from sentence_transformers) (1.7.3)\n",
            "Requirement already satisfied: nltk in /usr/local/lib/python3.7/dist-packages (from sentence_transformers) (3.7)\n",
            "Collecting sentencepiece\n",
            "  Downloading sentencepiece-0.1.97-cp37-cp37m-manylinux_2_17_x86_64.manylinux2014_x86_64.whl (1.3 MB)\n",
            "\u001b[K     |████████████████████████████████| 1.3 MB 49.8 MB/s \n",
            "\u001b[?25hCollecting huggingface-hub>=0.4.0\n",
            "  Downloading huggingface_hub-0.11.0-py3-none-any.whl (182 kB)\n",
            "\u001b[K     |████████████████████████████████| 182 kB 53.3 MB/s \n",
            "\u001b[?25hRequirement already satisfied: pyyaml>=5.1 in /usr/local/lib/python3.7/dist-packages (from huggingface-hub>=0.4.0->sentence_transformers) (6.0)\n",
            "Requirement already satisfied: filelock in /usr/local/lib/python3.7/dist-packages (from huggingface-hub>=0.4.0->sentence_transformers) (3.8.0)\n",
            "Requirement already satisfied: requests in /usr/local/lib/python3.7/dist-packages (from huggingface-hub>=0.4.0->sentence_transformers) (2.23.0)\n",
            "Requirement already satisfied: typing-extensions>=3.7.4.3 in /usr/local/lib/python3.7/dist-packages (from huggingface-hub>=0.4.0->sentence_transformers) (4.1.1)\n",
            "Requirement already satisfied: packaging>=20.9 in /usr/local/lib/python3.7/dist-packages (from huggingface-hub>=0.4.0->sentence_transformers) (21.3)\n",
            "Requirement already satisfied: importlib-metadata in /usr/local/lib/python3.7/dist-packages (from huggingface-hub>=0.4.0->sentence_transformers) (4.13.0)\n",
            "Requirement already satisfied: pyparsing!=3.0.5,>=2.0.2 in /usr/local/lib/python3.7/dist-packages (from packaging>=20.9->huggingface-hub>=0.4.0->sentence_transformers) (3.0.9)\n",
            "Requirement already satisfied: regex!=2019.12.17 in /usr/local/lib/python3.7/dist-packages (from transformers<5.0.0,>=4.6.0->sentence_transformers) (2022.6.2)\n",
            "Collecting tokenizers!=0.11.3,<0.14,>=0.11.1\n",
            "  Downloading tokenizers-0.13.2-cp37-cp37m-manylinux_2_17_x86_64.manylinux2014_x86_64.whl (7.6 MB)\n",
            "\u001b[K     |████████████████████████████████| 7.6 MB 38.3 MB/s \n",
            "\u001b[?25hRequirement already satisfied: zipp>=0.5 in /usr/local/lib/python3.7/dist-packages (from importlib-metadata->huggingface-hub>=0.4.0->sentence_transformers) (3.10.0)\n",
            "Requirement already satisfied: joblib in /usr/local/lib/python3.7/dist-packages (from nltk->sentence_transformers) (1.2.0)\n",
            "Requirement already satisfied: click in /usr/local/lib/python3.7/dist-packages (from nltk->sentence_transformers) (7.1.2)\n",
            "Requirement already satisfied: idna<3,>=2.5 in /usr/local/lib/python3.7/dist-packages (from requests->huggingface-hub>=0.4.0->sentence_transformers) (2.10)\n",
            "Requirement already satisfied: certifi>=2017.4.17 in /usr/local/lib/python3.7/dist-packages (from requests->huggingface-hub>=0.4.0->sentence_transformers) (2022.9.24)\n",
            "Requirement already satisfied: urllib3!=1.25.0,!=1.25.1,<1.26,>=1.21.1 in /usr/local/lib/python3.7/dist-packages (from requests->huggingface-hub>=0.4.0->sentence_transformers) (1.24.3)\n",
            "Requirement already satisfied: chardet<4,>=3.0.2 in /usr/local/lib/python3.7/dist-packages (from requests->huggingface-hub>=0.4.0->sentence_transformers) (3.0.4)\n",
            "Requirement already satisfied: threadpoolctl>=2.0.0 in /usr/local/lib/python3.7/dist-packages (from scikit-learn->sentence_transformers) (3.1.0)\n",
            "Requirement already satisfied: pillow!=8.3.*,>=5.3.0 in /usr/local/lib/python3.7/dist-packages (from torchvision->sentence_transformers) (7.1.2)\n",
            "Building wheels for collected packages: sentence-transformers\n",
            "  Building wheel for sentence-transformers (setup.py) ... \u001b[?25l\u001b[?25hdone\n",
            "  Created wheel for sentence-transformers: filename=sentence_transformers-2.2.2-py3-none-any.whl size=125938 sha256=76d6d887a62f1a0bad0333c4adf3852be10119813d94e249819ec3e0cf1aa387\n",
            "  Stored in directory: /root/.cache/pip/wheels/bf/06/fb/d59c1e5bd1dac7f6cf61ec0036cc3a10ab8fecaa6b2c3d3ee9\n",
            "Successfully built sentence-transformers\n",
            "Installing collected packages: tokenizers, huggingface-hub, transformers, sentencepiece, sentence-transformers\n",
            "Successfully installed huggingface-hub-0.11.0 sentence-transformers-2.2.2 sentencepiece-0.1.97 tokenizers-0.13.2 transformers-4.24.0\n"
          ]
        }
      ]
    },
    {
      "cell_type": "code",
      "source": [
        "! pip install visualise_spacy_tree"
      ],
      "metadata": {
        "id": "4zwJhbXXWVNm",
        "colab": {
          "base_uri": "https://localhost:8080/"
        },
        "outputId": "b0d73c21-1fe6-4691-f211-7c98bf073a11"
      },
      "execution_count": null,
      "outputs": [
        {
          "output_type": "stream",
          "name": "stdout",
          "text": [
            "Looking in indexes: https://pypi.org/simple, https://us-python.pkg.dev/colab-wheels/public/simple/\n",
            "Collecting visualise_spacy_tree\n",
            "  Downloading visualise_spacy_tree-0.0.6-py3-none-any.whl (5.0 kB)\n",
            "Collecting pydot==1.4.1\n",
            "  Downloading pydot-1.4.1-py2.py3-none-any.whl (19 kB)\n",
            "Requirement already satisfied: pyparsing>=2.1.4 in /usr/local/lib/python3.7/dist-packages (from pydot==1.4.1->visualise_spacy_tree) (3.0.9)\n",
            "Installing collected packages: pydot, visualise-spacy-tree\n",
            "  Attempting uninstall: pydot\n",
            "    Found existing installation: pydot 1.3.0\n",
            "    Uninstalling pydot-1.3.0:\n",
            "      Successfully uninstalled pydot-1.3.0\n",
            "Successfully installed pydot-1.4.1 visualise-spacy-tree-0.0.6\n"
          ]
        }
      ]
    },
    {
      "cell_type": "code",
      "source": [
        "!pip install rdflib"
      ],
      "metadata": {
        "colab": {
          "base_uri": "https://localhost:8080/"
        },
        "id": "6CI_0oT2TtWH",
        "outputId": "f30b17c6-29fb-4568-9efe-b162480f2a3c"
      },
      "execution_count": null,
      "outputs": [
        {
          "output_type": "stream",
          "name": "stdout",
          "text": [
            "Looking in indexes: https://pypi.org/simple, https://us-python.pkg.dev/colab-wheels/public/simple/\n",
            "Collecting rdflib\n",
            "  Downloading rdflib-6.2.0-py3-none-any.whl (500 kB)\n",
            "\u001b[K     |████████████████████████████████| 500 kB 9.8 MB/s \n",
            "\u001b[?25hRequirement already satisfied: pyparsing in /usr/local/lib/python3.7/dist-packages (from rdflib) (3.0.9)\n",
            "Requirement already satisfied: setuptools in /usr/local/lib/python3.7/dist-packages (from rdflib) (57.4.0)\n",
            "Collecting isodate\n",
            "  Downloading isodate-0.6.1-py2.py3-none-any.whl (41 kB)\n",
            "\u001b[K     |████████████████████████████████| 41 kB 625 kB/s \n",
            "\u001b[?25hRequirement already satisfied: importlib-metadata in /usr/local/lib/python3.7/dist-packages (from rdflib) (4.13.0)\n",
            "Requirement already satisfied: zipp>=0.5 in /usr/local/lib/python3.7/dist-packages (from importlib-metadata->rdflib) (3.10.0)\n",
            "Requirement already satisfied: typing-extensions>=3.6.4 in /usr/local/lib/python3.7/dist-packages (from importlib-metadata->rdflib) (4.1.1)\n",
            "Requirement already satisfied: six in /usr/local/lib/python3.7/dist-packages (from isodate->rdflib) (1.15.0)\n",
            "Installing collected packages: isodate, rdflib\n",
            "Successfully installed isodate-0.6.1 rdflib-6.2.0\n"
          ]
        }
      ]
    },
    {
      "cell_type": "code",
      "source": [
        "import pandas as pd\n",
        "import numpy as np\n",
        "import spacy\n",
        "from spacy.matcher import Matcher \n",
        "from spacy import displacy \n",
        "import visualise_spacy_tree\n",
        "from IPython.display import Image, display\n",
        "from sentence_transformers import SentenceTransformer, util\n",
        "import torch\n",
        "from nltk.stem import WordNetLemmatizer\n",
        "from nltk.corpus import stopwords\n",
        "from nltk.tokenize import word_tokenize\n",
        "import re\n"
      ],
      "metadata": {
        "id": "1UD5cMA9GA9b"
      },
      "execution_count": null,
      "outputs": []
    },
    {
      "cell_type": "code",
      "source": [
        "# from owlready2 import get_ontology\n",
        "# onto = get_ontology(\"/content/pmbok5-1.owl\").load()\n",
        "# onto.pmbok5"
      ],
      "metadata": {
        "id": "LoyPOg9PEJYh",
        "colab": {
          "base_uri": "https://localhost:8080/",
          "height": 502
        },
        "outputId": "6efa57e8-04b3-4c1a-93c2-5eb218e3e73b"
      },
      "execution_count": null,
      "outputs": [
        {
          "output_type": "error",
          "ename": "OwlReadyOntologyParsingError",
          "evalue": "ignored",
          "traceback": [
            "\u001b[0;31m---------------------------------------------------------------------------\u001b[0m",
            "\u001b[0;31mExpatError\u001b[0m                                Traceback (most recent call last)",
            "\u001b[0;32mowlready2_optimized.pyx\u001b[0m in \u001b[0;36mowlready2_optimized.parse_rdfxml\u001b[0;34m()\u001b[0m\n",
            "\u001b[0;31mExpatError\u001b[0m: not well-formed (invalid token): line 1, column 6",
            "\nThe above exception was the direct cause of the following exception:\n",
            "\u001b[0;31mOwlReadyOntologyParsingError\u001b[0m              Traceback (most recent call last)",
            "\u001b[0;32m<ipython-input-36-ab22dba7a3aa>\u001b[0m in \u001b[0;36m<module>\u001b[0;34m\u001b[0m\n\u001b[1;32m      1\u001b[0m \u001b[0;32mfrom\u001b[0m \u001b[0mowlready2\u001b[0m \u001b[0;32mimport\u001b[0m \u001b[0mget_ontology\u001b[0m\u001b[0;34m\u001b[0m\u001b[0;34m\u001b[0m\u001b[0m\n\u001b[0;32m----> 2\u001b[0;31m \u001b[0monto\u001b[0m \u001b[0;34m=\u001b[0m \u001b[0mget_ontology\u001b[0m\u001b[0;34m(\u001b[0m\u001b[0;34m\"/content/OWL_TEST.owl\"\u001b[0m\u001b[0;34m)\u001b[0m\u001b[0;34m.\u001b[0m\u001b[0mload\u001b[0m\u001b[0;34m(\u001b[0m\u001b[0;34m)\u001b[0m\u001b[0;34m\u001b[0m\u001b[0;34m\u001b[0m\u001b[0m\n\u001b[0m\u001b[1;32m      3\u001b[0m \u001b[0monto\u001b[0m\u001b[0;34m.\u001b[0m\u001b[0mpmbok5\u001b[0m\u001b[0;34m\u001b[0m\u001b[0;34m\u001b[0m\u001b[0m\n",
            "\u001b[0;32m/usr/local/lib/python3.7/dist-packages/owlready2/namespace.py\u001b[0m in \u001b[0;36mload\u001b[0;34m(self, only_local, fileobj, reload, reload_if_newer, url, **args)\u001b[0m\n\u001b[1;32m   1084\u001b[0m         \u001b[0mfileobj\u001b[0m \u001b[0;34m=\u001b[0m \u001b[0mopen\u001b[0m\u001b[0;34m(\u001b[0m\u001b[0mf\u001b[0m\u001b[0;34m,\u001b[0m \u001b[0;34m\"rb\"\u001b[0m\u001b[0;34m)\u001b[0m\u001b[0;34m\u001b[0m\u001b[0;34m\u001b[0m\u001b[0m\n\u001b[1;32m   1085\u001b[0m         \u001b[0;31m#try:     new_base_iri = self.graph.parse(fileobj, default_base = self._base_iri, **args)\u001b[0m\u001b[0;34m\u001b[0m\u001b[0;34m\u001b[0m\u001b[0;34m\u001b[0m\u001b[0m\n\u001b[0;32m-> 1086\u001b[0;31m         \u001b[0;32mtry\u001b[0m\u001b[0;34m:\u001b[0m     \u001b[0mnew_base_iri\u001b[0m \u001b[0;34m=\u001b[0m \u001b[0mself\u001b[0m\u001b[0;34m.\u001b[0m\u001b[0mgraph\u001b[0m\u001b[0;34m.\u001b[0m\u001b[0mparse\u001b[0m\u001b[0;34m(\u001b[0m\u001b[0mfileobj\u001b[0m\u001b[0;34m,\u001b[0m \u001b[0mdefault_base\u001b[0m \u001b[0;34m=\u001b[0m \u001b[0mself\u001b[0m\u001b[0;34m.\u001b[0m\u001b[0m_orig_base_iri\u001b[0m\u001b[0;34m,\u001b[0m \u001b[0;34m**\u001b[0m\u001b[0margs\u001b[0m\u001b[0;34m)\u001b[0m\u001b[0;34m\u001b[0m\u001b[0;34m\u001b[0m\u001b[0m\n\u001b[0m\u001b[1;32m   1087\u001b[0m         \u001b[0;32mfinally\u001b[0m\u001b[0;34m:\u001b[0m \u001b[0mfileobj\u001b[0m\u001b[0;34m.\u001b[0m\u001b[0mclose\u001b[0m\u001b[0;34m(\u001b[0m\u001b[0;34m)\u001b[0m\u001b[0;34m\u001b[0m\u001b[0;34m\u001b[0m\u001b[0m\n\u001b[1;32m   1088\u001b[0m       \u001b[0;32melse\u001b[0m\u001b[0;34m:\u001b[0m\u001b[0;34m\u001b[0m\u001b[0;34m\u001b[0m\u001b[0m\n",
            "\u001b[0;32m/usr/local/lib/python3.7/dist-packages/owlready2/driver.py\u001b[0m in \u001b[0;36mparse\u001b[0;34m(self, f, format, delete_existing_triples, default_base)\u001b[0m\n\u001b[1;32m    201\u001b[0m       \u001b[0;32mexcept\u001b[0m \u001b[0mOwlReadyOntologyParsingError\u001b[0m \u001b[0;32mas\u001b[0m \u001b[0me\u001b[0m\u001b[0;34m:\u001b[0m\u001b[0;34m\u001b[0m\u001b[0;34m\u001b[0m\u001b[0m\n\u001b[1;32m    202\u001b[0m         \u001b[0;32mif\u001b[0m \u001b[0mlen\u001b[0m\u001b[0;34m(\u001b[0m\u001b[0mself\u001b[0m\u001b[0;34m)\u001b[0m \u001b[0;34m==\u001b[0m \u001b[0;36m0\u001b[0m\u001b[0;34m:\u001b[0m \u001b[0mself\u001b[0m\u001b[0;34m.\u001b[0m\u001b[0m_add_obj_triple_raw_spo\u001b[0m\u001b[0;34m(\u001b[0m\u001b[0mself\u001b[0m\u001b[0;34m.\u001b[0m\u001b[0monto\u001b[0m\u001b[0;34m.\u001b[0m\u001b[0mstorid\u001b[0m\u001b[0;34m,\u001b[0m \u001b[0mrdf_type\u001b[0m\u001b[0;34m,\u001b[0m \u001b[0mowl_ontology\u001b[0m\u001b[0;34m)\u001b[0m\u001b[0;34m\u001b[0m\u001b[0;34m\u001b[0m\u001b[0m\n\u001b[0;32m--> 203\u001b[0;31m         \u001b[0;32mraise\u001b[0m \u001b[0me\u001b[0m\u001b[0;34m\u001b[0m\u001b[0;34m\u001b[0m\u001b[0m\n\u001b[0m\u001b[1;32m    204\u001b[0m \u001b[0;34m\u001b[0m\u001b[0m\n\u001b[1;32m    205\u001b[0m     \u001b[0;32melif\u001b[0m \u001b[0mformat\u001b[0m \u001b[0;34m==\u001b[0m \u001b[0;34m\"owlxml\"\u001b[0m\u001b[0;34m:\u001b[0m\u001b[0;34m\u001b[0m\u001b[0;34m\u001b[0m\u001b[0m\n",
            "\u001b[0;32m/usr/local/lib/python3.7/dist-packages/owlready2/driver.py\u001b[0m in \u001b[0;36mparse\u001b[0;34m(self, f, format, delete_existing_triples, default_base)\u001b[0m\n\u001b[1;32m    194\u001b[0m       \u001b[0;32mtry\u001b[0m\u001b[0;34m:\u001b[0m\u001b[0;34m\u001b[0m\u001b[0;34m\u001b[0m\u001b[0m\n\u001b[1;32m    195\u001b[0m         \u001b[0;32mif\u001b[0m \u001b[0mowlready2_optimized\u001b[0m\u001b[0;34m:\u001b[0m\u001b[0;34m\u001b[0m\u001b[0;34m\u001b[0m\u001b[0m\n\u001b[0;32m--> 196\u001b[0;31m           \u001b[0mowlready2_optimized\u001b[0m\u001b[0;34m.\u001b[0m\u001b[0mparse_rdfxml\u001b[0m\u001b[0;34m(\u001b[0m\u001b[0mf\u001b[0m\u001b[0;34m,\u001b[0m \u001b[0mobjs\u001b[0m\u001b[0;34m,\u001b[0m \u001b[0mdatas\u001b[0m\u001b[0;34m,\u001b[0m \u001b[0minsert_objs\u001b[0m\u001b[0;34m,\u001b[0m \u001b[0minsert_datas\u001b[0m\u001b[0;34m,\u001b[0m \u001b[0m_abbreviate\u001b[0m\u001b[0;34m,\u001b[0m \u001b[0mnew_blank\u001b[0m\u001b[0;34m,\u001b[0m \u001b[0mdefault_base\u001b[0m\u001b[0;34m)\u001b[0m\u001b[0;34m\u001b[0m\u001b[0;34m\u001b[0m\u001b[0m\n\u001b[0m\u001b[1;32m    197\u001b[0m         \u001b[0;32melse\u001b[0m\u001b[0;34m:\u001b[0m\u001b[0;34m\u001b[0m\u001b[0;34m\u001b[0m\u001b[0m\n\u001b[1;32m    198\u001b[0m           \u001b[0;32mimport\u001b[0m \u001b[0mowlready2\u001b[0m\u001b[0;34m.\u001b[0m\u001b[0mrdfxml_2_ntriples\u001b[0m\u001b[0;34m\u001b[0m\u001b[0;34m\u001b[0m\u001b[0m\n",
            "\u001b[0;32mowlready2_optimized.pyx\u001b[0m in \u001b[0;36mowlready2_optimized.parse_rdfxml\u001b[0;34m()\u001b[0m\n",
            "\u001b[0;31mOwlReadyOntologyParsingError\u001b[0m: RDF/XML parsing error in file /content/OWL_TEST.owl, line 1, column 6."
          ]
        }
      ]
    },
    {
      "cell_type": "code",
      "source": [
        "from owlready2 import *\n",
        "onto = get_ontology(\"/content/OWL_TEST.owl\")\n",
        "onto.load()"
      ],
      "metadata": {
        "colab": {
          "base_uri": "https://localhost:8080/",
          "height": 745
        },
        "id": "I21VEro0ES4J",
        "outputId": "e5d2e7a2-e53d-464f-f043-8c6bd0e7e3e9"
      },
      "execution_count": null,
      "outputs": [
        {
          "output_type": "error",
          "ename": "OwlReadyOntologyParsingError",
          "evalue": "ignored",
          "traceback": [
            "\u001b[0;31m---------------------------------------------------------------------------\u001b[0m",
            "\u001b[0;31mExpatError\u001b[0m                                Traceback (most recent call last)",
            "\u001b[0;32mowlready2_optimized.pyx\u001b[0m in \u001b[0;36mowlready2_optimized.parse_rdfxml\u001b[0;34m()\u001b[0m\n",
            "\u001b[0;31mExpatError\u001b[0m: not well-formed (invalid token): line 1, column 6",
            "\nThe above exception was the direct cause of the following exception:\n",
            "\u001b[0;31mOwlReadyOntologyParsingError\u001b[0m              Traceback (most recent call last)",
            "\u001b[0;32m<ipython-input-34-7a4f8e3e5bef>\u001b[0m in \u001b[0;36m<module>\u001b[0;34m\u001b[0m\n\u001b[1;32m      1\u001b[0m \u001b[0;32mfrom\u001b[0m \u001b[0mowlready2\u001b[0m \u001b[0;32mimport\u001b[0m \u001b[0;34m*\u001b[0m\u001b[0;34m\u001b[0m\u001b[0;34m\u001b[0m\u001b[0m\n\u001b[1;32m      2\u001b[0m \u001b[0monto\u001b[0m \u001b[0;34m=\u001b[0m \u001b[0mget_ontology\u001b[0m\u001b[0;34m(\u001b[0m\u001b[0;34m\"/content/OWL_TEST.owl\"\u001b[0m\u001b[0;34m)\u001b[0m\u001b[0;34m\u001b[0m\u001b[0;34m\u001b[0m\u001b[0m\n\u001b[0;32m----> 3\u001b[0;31m \u001b[0monto\u001b[0m\u001b[0;34m.\u001b[0m\u001b[0mload\u001b[0m\u001b[0;34m(\u001b[0m\u001b[0;34m)\u001b[0m\u001b[0;34m\u001b[0m\u001b[0;34m\u001b[0m\u001b[0m\n\u001b[0m",
            "\u001b[0;32m/usr/local/lib/python3.7/dist-packages/owlready2/namespace.py\u001b[0m in \u001b[0;36mload\u001b[0;34m(self, only_local, fileobj, reload, reload_if_newer, url, **args)\u001b[0m\n\u001b[1;32m   1084\u001b[0m         \u001b[0mfileobj\u001b[0m \u001b[0;34m=\u001b[0m \u001b[0mopen\u001b[0m\u001b[0;34m(\u001b[0m\u001b[0mf\u001b[0m\u001b[0;34m,\u001b[0m \u001b[0;34m\"rb\"\u001b[0m\u001b[0;34m)\u001b[0m\u001b[0;34m\u001b[0m\u001b[0;34m\u001b[0m\u001b[0m\n\u001b[1;32m   1085\u001b[0m         \u001b[0;31m#try:     new_base_iri = self.graph.parse(fileobj, default_base = self._base_iri, **args)\u001b[0m\u001b[0;34m\u001b[0m\u001b[0;34m\u001b[0m\u001b[0;34m\u001b[0m\u001b[0m\n\u001b[0;32m-> 1086\u001b[0;31m         \u001b[0;32mtry\u001b[0m\u001b[0;34m:\u001b[0m     \u001b[0mnew_base_iri\u001b[0m \u001b[0;34m=\u001b[0m \u001b[0mself\u001b[0m\u001b[0;34m.\u001b[0m\u001b[0mgraph\u001b[0m\u001b[0;34m.\u001b[0m\u001b[0mparse\u001b[0m\u001b[0;34m(\u001b[0m\u001b[0mfileobj\u001b[0m\u001b[0;34m,\u001b[0m \u001b[0mdefault_base\u001b[0m \u001b[0;34m=\u001b[0m \u001b[0mself\u001b[0m\u001b[0;34m.\u001b[0m\u001b[0m_orig_base_iri\u001b[0m\u001b[0;34m,\u001b[0m \u001b[0;34m**\u001b[0m\u001b[0margs\u001b[0m\u001b[0;34m)\u001b[0m\u001b[0;34m\u001b[0m\u001b[0;34m\u001b[0m\u001b[0m\n\u001b[0m\u001b[1;32m   1087\u001b[0m         \u001b[0;32mfinally\u001b[0m\u001b[0;34m:\u001b[0m \u001b[0mfileobj\u001b[0m\u001b[0;34m.\u001b[0m\u001b[0mclose\u001b[0m\u001b[0;34m(\u001b[0m\u001b[0;34m)\u001b[0m\u001b[0;34m\u001b[0m\u001b[0;34m\u001b[0m\u001b[0m\n\u001b[1;32m   1088\u001b[0m       \u001b[0;32melse\u001b[0m\u001b[0;34m:\u001b[0m\u001b[0;34m\u001b[0m\u001b[0;34m\u001b[0m\u001b[0m\n",
            "\u001b[0;32m/usr/local/lib/python3.7/dist-packages/owlready2/driver.py\u001b[0m in \u001b[0;36mparse\u001b[0;34m(self, f, format, delete_existing_triples, default_base)\u001b[0m\n\u001b[1;32m    201\u001b[0m       \u001b[0;32mexcept\u001b[0m \u001b[0mOwlReadyOntologyParsingError\u001b[0m \u001b[0;32mas\u001b[0m \u001b[0me\u001b[0m\u001b[0;34m:\u001b[0m\u001b[0;34m\u001b[0m\u001b[0;34m\u001b[0m\u001b[0m\n\u001b[1;32m    202\u001b[0m         \u001b[0;32mif\u001b[0m \u001b[0mlen\u001b[0m\u001b[0;34m(\u001b[0m\u001b[0mself\u001b[0m\u001b[0;34m)\u001b[0m \u001b[0;34m==\u001b[0m \u001b[0;36m0\u001b[0m\u001b[0;34m:\u001b[0m \u001b[0mself\u001b[0m\u001b[0;34m.\u001b[0m\u001b[0m_add_obj_triple_raw_spo\u001b[0m\u001b[0;34m(\u001b[0m\u001b[0mself\u001b[0m\u001b[0;34m.\u001b[0m\u001b[0monto\u001b[0m\u001b[0;34m.\u001b[0m\u001b[0mstorid\u001b[0m\u001b[0;34m,\u001b[0m \u001b[0mrdf_type\u001b[0m\u001b[0;34m,\u001b[0m \u001b[0mowl_ontology\u001b[0m\u001b[0;34m)\u001b[0m\u001b[0;34m\u001b[0m\u001b[0;34m\u001b[0m\u001b[0m\n\u001b[0;32m--> 203\u001b[0;31m         \u001b[0;32mraise\u001b[0m \u001b[0me\u001b[0m\u001b[0;34m\u001b[0m\u001b[0;34m\u001b[0m\u001b[0m\n\u001b[0m\u001b[1;32m    204\u001b[0m \u001b[0;34m\u001b[0m\u001b[0m\n\u001b[1;32m    205\u001b[0m     \u001b[0;32melif\u001b[0m \u001b[0mformat\u001b[0m \u001b[0;34m==\u001b[0m \u001b[0;34m\"owlxml\"\u001b[0m\u001b[0;34m:\u001b[0m\u001b[0;34m\u001b[0m\u001b[0;34m\u001b[0m\u001b[0m\n",
            "\u001b[0;32m/usr/local/lib/python3.7/dist-packages/owlready2/driver.py\u001b[0m in \u001b[0;36mparse\u001b[0;34m(self, f, format, delete_existing_triples, default_base)\u001b[0m\n\u001b[1;32m    194\u001b[0m       \u001b[0;32mtry\u001b[0m\u001b[0;34m:\u001b[0m\u001b[0;34m\u001b[0m\u001b[0;34m\u001b[0m\u001b[0m\n\u001b[1;32m    195\u001b[0m         \u001b[0;32mif\u001b[0m \u001b[0mowlready2_optimized\u001b[0m\u001b[0;34m:\u001b[0m\u001b[0;34m\u001b[0m\u001b[0;34m\u001b[0m\u001b[0m\n\u001b[0;32m--> 196\u001b[0;31m           \u001b[0mowlready2_optimized\u001b[0m\u001b[0;34m.\u001b[0m\u001b[0mparse_rdfxml\u001b[0m\u001b[0;34m(\u001b[0m\u001b[0mf\u001b[0m\u001b[0;34m,\u001b[0m \u001b[0mobjs\u001b[0m\u001b[0;34m,\u001b[0m \u001b[0mdatas\u001b[0m\u001b[0;34m,\u001b[0m \u001b[0minsert_objs\u001b[0m\u001b[0;34m,\u001b[0m \u001b[0minsert_datas\u001b[0m\u001b[0;34m,\u001b[0m \u001b[0m_abbreviate\u001b[0m\u001b[0;34m,\u001b[0m \u001b[0mnew_blank\u001b[0m\u001b[0;34m,\u001b[0m \u001b[0mdefault_base\u001b[0m\u001b[0;34m)\u001b[0m\u001b[0;34m\u001b[0m\u001b[0;34m\u001b[0m\u001b[0m\n\u001b[0m\u001b[1;32m    197\u001b[0m         \u001b[0;32melse\u001b[0m\u001b[0;34m:\u001b[0m\u001b[0;34m\u001b[0m\u001b[0;34m\u001b[0m\u001b[0m\n\u001b[1;32m    198\u001b[0m           \u001b[0;32mimport\u001b[0m \u001b[0mowlready2\u001b[0m\u001b[0;34m.\u001b[0m\u001b[0mrdfxml_2_ntriples\u001b[0m\u001b[0;34m\u001b[0m\u001b[0;34m\u001b[0m\u001b[0m\n",
            "\u001b[0;32mowlready2_optimized.pyx\u001b[0m in \u001b[0;36mowlready2_optimized.parse_rdfxml\u001b[0;34m()\u001b[0m\n",
            "\u001b[0;31mOwlReadyOntologyParsingError\u001b[0m: RDF/XML parsing error in file /content/OWL_TEST.owl, line 1, column 6."
          ]
        }
      ]
    },
    {
      "cell_type": "code",
      "source": [
        "# data = {\n",
        "#         'Concept': [],\n",
        "#         'Types': [],\n",
        "#         'Definition': []}\n",
        "\n",
        "# df_pmbk = pd.DataFrame(data)\n",
        "\n",
        "# concept_data = onto.search(type = onto.Concept)\n",
        "# types_data = onto.search(type = onto.Types)\n",
        "# definition_data = onto.search(type = onto.Definition)\n",
        "\n"
      ],
      "metadata": {
        "id": "HHCKA4jnFZsj"
      },
      "execution_count": null,
      "outputs": []
    },
    {
      "cell_type": "code",
      "source": [
        "with open('/content/OWL_TEST.owl', encoding=\"utf8\") as file:\n",
        "     data1 = file.read()"
      ],
      "metadata": {
        "id": "mtzQTP39Ka0j"
      },
      "execution_count": null,
      "outputs": []
    },
    {
      "cell_type": "code",
      "source": [
        "def remove_newlines_tabs(text):   \n",
        "    Formatted_text = text.replace('\\\\n', ' ').replace('\\n', ' ').replace('\\t',' ').replace('\\\\', ' ')\n",
        "    return Formatted_text\n",
        "data1 = remove_newlines_tabs(data1)"
      ],
      "metadata": {
        "id": "UzwQwDnUK4r4"
      },
      "execution_count": null,
      "outputs": []
    },
    {
      "cell_type": "code",
      "source": [
        "data1"
      ],
      "metadata": {
        "colab": {
          "base_uri": "https://localhost:8080/",
          "height": 122
        },
        "id": "A-T7e5gaK5OU",
        "outputId": "847e48dc-975a-4953-fe46-bdb311f71c46"
      },
      "execution_count": null,
      "outputs": [
        {
          "output_type": "execute_result",
          "data": {
            "text/plain": [
              "'@prefix owl: <http://www.w3.org/2002/07/owl#> . @prefix pr: <http://example.org/projectOntology/> . @prefix rdfs: <http://www.w3.org/2000/01/rdf-schema#> . @prefix xsd: <http://www.w3.org/2001/XMLSchema#> .  pr: a owl:Ontology .  <http://example.org/projectOntology/5.1.1.1_PROJECT_CHARTER > rdfs:isDefinedBy \"  DATA ANALYSIS  A data analysis technique that can be used for this process includes but is not limited to alternatives analysis. Various ways of collecting requirements, elaborating the project and product scope, creating the product, validating the scope, and controlling the scope are evaluated.   \"^^xsd:string .  <http://example.org/projectOntology/5.1.1.2_PROJECT_MANAGEMENT_PLAN > rdfs:isDefinedBy \"  MEETINGS  Project teams may attend project meetings to develop the scope management plan. Attendees may include the project manager, the project sponsor, selected project team members, selected stakeholders, anyone with responsibility for any of the scope management processes, and others as needed.  136  5.1.3 PLAN SCOPE MANAGEMENT: OUTPUTS   \"^^xsd:string .  <http://example.org/projectOntology/5.1.1.3_ENTERPRISE_ENVIRONMENTAL_FACTORS > rdfs:isDefinedBy \"  SCOPE MANAGEMENT PLAN  The scope management plan is a component of the project management plan that describes how the scope will be defined, developed, monitored, controlled, and validated. The components of a scope management plan include:   Process for preparing a project scope statement;   Process that enables the creation of the WBS from the detailed project scope statement;   Process that establishes how the scope baseline will be approved and maintained; and   Process that specifies how formal acceptance of the completed project deliverables will be obtained.  The scope management plan can be formal or informal, broadly framed or highly detailed, based on the needsf the project.   \"^^xsd:string .  <http://example.org/projectOntology/5.1.2.2_DATA_ANALYSIS > rdfs:isDefinedBy \" . The scope management plan contains information on how the project scope will be defined and developed.   Requirements management plan. Described in Section  \"^^xsd:string .  <http://example.org/projectOntology/5.1.2.3_MEETINGS > rdfs:isDefinedBy \" . The requirements management plan has information on how project requirements will be collected, analyzed, and documented.   Stakeholder engagement plan. \"^^xsd:string .  <http://example.org/projectOntology/5.1.3.1_SCOPE_MANAGEMENT_PLAN > rdfs:isDefinedBy \"  BUSINE DOCUMENTS  \"^^xsd:string .  <http://example.org/projectOntology/5.1.3.2_REQUIREMENTS_MANAGEMENT_PLAN > rdfs:isDefinedBy \"  AGREEMENTS  \"^^xsd:string .  <http://example.org/projectOntology/5.1_PLAN_SCOPE_MANAGEMENT > rdfs:isDefinedBy \".1 PROJECT CHARTER  \"^^xsd:string .  <http://example.org/projectOntology/5.2.1.4_BUSINE_DOCUMENTS > rdfs:isDefinedBy \"  DECISION MAKING Decisionmaking techniques that can be used in the Collect Requirements process include but are not limited to:   Voting. Voting is a collective decisionmaking technique and an assessment process having multiple alternatives with an expected outcome in the form of future actions. These techniques can be used to generate, classify, and prioritize product requirements. Examples of voting techniques include: _ Unanimity. A decision that is reached whereby everyone agrees on a single course of action.  Majority. A decision that is reached with support obtained from more than 50% of the members of the group. Having a group size with an uneven number of participants can ensure that a decision will be reached, rather than resulting in a tie.  Plurality. A decision that is reached whereby the largest block in a group decides, even if a majority is not achieved. This method is generally used when the number of options nominated is more than two.   Autocratic decision making. In this method, one individual takes responsibility for making the decision for the group.   Multicriteria decision analysis. A technique that uses a decision matrix to provide a systematic analytical approach for establishing criteria, such as risk levels, uncertainty, and valuation, to evaluate and rank many ideas.   \"^^xsd:string .  <http://example.org/projectOntology/5.2.1.5_AGREEMENTS > rdfs:isDefinedBy \"  DATA REPRESENTATION Data representation techniques that can be used for this process include but are not limited to:   Affinity diagrams. Affinity diagrams allow large numbers of ideas to be classified into groups for review and analysis.   Mind mapping. Mind mapping consolidates ideas created through individual brainstorming sessions into a single map to reflect commonality and differences in understanding and to generate new ideas.   \"^^xsd:string .  <http://example.org/projectOntology/5.2.1_COLLECT_REQUIREMENTS:_INPUTS > rdfs:isDefinedBy \"  ORGANIZATIONAL PROCE AETS  The organizational process assets that can influence the Collect Requirements process include but are not limited to:  Policies and procedures, and   Historical information and lessons learned repository with information from previous projects.  141 5.2.2 COLLECT REQUIREMENTS: TOOLS AND TECHNIQUES   \"^^xsd:string ;     rdfs:subClassOf pr:5.2_COLLECT_REQUIREMENTS_INPUTS .  <http://example.org/projectOntology/5.2.2.1_EXPERT_JUDGMENT > rdfs:isDefinedBy \"  REQUIREMENTS DOCUMENTATION  Requirements documentation describes how individual requirements meet the business need for the project. Requirements may start out at a high level and become progressively more detailed as more information about the requirements is known. Before being baselined, requirements need to be unambiguous (measurable and testable), traceable, complete, consistent, and acceptable to key stakeholders. The format of the requirements document may range from a simple document listing all the requirements categorized by stakeholder and priority, to more elaborate forms containing an executive summary, detailed descriptions, and attachments.  147 Many organizations categorize requirements into different types, such as business and technical solutions, the former referring to stakeholder needs and the latter as to how those needs will be implemented. Requirements can be grouped into classifications allowing for further refinement and detail as the requirements are elaborated. These Classifications include:   Business requirements. These describe the higherlevel needs of the organization as a whole, such as the business issues or opportunities, and reasons why a project has been undertaken.   Stakeholder requirements. These describe needs of a stakeholder or stakeholder group.   Solution requirements. These describe features, functions, and characteristics of the product, service, or result that will meet the business and stakeholder requirements. Solution requirements are further grouped into functional and nonfunctional requirements:  Functional requirements. Functional requirements describe the behaviors of the product. Examples include actions, processes, data, and interactions that the product should execute.  Nonfunctional requirements. Nonfunctional requirements supplement functional requirements and describe the environmental conditions or qualities required for the product to be effective. Examples include: reliability, security, performance, safety, level of service, supportability, retention/purge, etc.   Transition and readiness requirements. These describe temporary capabilities, such as data conversion and training requirements, needed to transition from the current asis state to the desired future state.   Project requirements. These describe the actions, processes, or other conditions the project needs to meet. Examples include milestone dates, contractual obligations, constraints, etc.   Quality requirements. These capture any condition or criteria needed to validate the successful completionf a project deliverable or fulfillment of other project requirements. Examples include tests, certifications, validations, etc.   \"^^xsd:string .  <http://example.org/projectOntology/5.2.2.5_DATA_REPRESENTATION > rdfs:isDefinedBy \" , which documents how the project scope will be defined, validated, and controlled.   \"^^xsd:string .  <http://example.org/projectOntology/5.2.2.7_CONTEXT_DIAGRAM > rdfs:isDefinedBy \" . Requirements documentation identifies requirements that will be incorporated into the scope.   Risk register. \"^^xsd:string .  <http://example.org/projectOntology/5.2.2.8_PROTOTYPES > rdfs:isDefinedBy \"  ENTERPRISE ENVIRONMENTAL FACTORS  The enterprise environmental factors that can influence the Define Scope process include but are not limited to:  Organization’s culture,   Infrastructure,   Personnel administration, and   Marketplace conditions.   \"^^xsd:string .  <http://example.org/projectOntology/5.2.2_COLLECT_REQUIREMENTS:_TOOLS_AND_TECHNIQUES > rdfs:isDefinedBy \"  PROTOTYPES  Prototyping is a method of obtaining early feedback on requirements by providing a model of the expected product before actually building it. Examples of prototypes are smallscale products, computer generated 2D and 3D models,ockups, or simulations. Prototypes allow stakeholders to experiment with a model of the final product rather than being limited to discussing abstract representations of their requirements. Prototypes support the concept of progressive elaboration in iterative cycles of mockup creation, user experimentation, feedback generation, and prototype revision. When enough feedback cycles have been performed, the requirements obtained from the prototype are sufficiently complete to move to a design or build phase.  Storyboarding is a prototyping technique showing sequence or navigation through a series of images or illustrations. Storyboards are used on a variety of projects in a variety of industries, such as film, advertising, instructional design, and on agile and other software development projects. In software development, storyboards use mockups to show navigation paths through web pages, screens, or other user interfaces.  5.2.3 COLLECT REQUIREMENTS: OUTPUTS   \"^^xsd:string ;     rdfs:subClassOf pr:5.2_COLLECT_REQUIREMENTS_TOOLS_AND_TECHNIQUES .  <http://example.org/projectOntology/5.2.3.2_REQUIREMENTS_TRACEABILITY_MATRIX > rdfs:isDefinedBy \"  DATA ANALYSIS  An example of a data analysis technique that can be used in this process includes but is not limited to alternatives analysis. Alternatives analysis can be used to evaluate ways to meet the requirements and the objectives identified in the charter.   \"^^xsd:string .  <http://example.org/projectOntology/5.2.3_COLLECT_REQUIREMENTS:_OUTPUTS > rdfs:isDefinedBy \"  ORGANIZATIONAL PROCE AETS  The organizational process assets that can influence the Define Scope process include but are not limited to:  Policies, procedures, and templates for a project scope statement;  Project files from previous projects; and   Lessons learned from previous phases or projects.  152  5.3.2 DEFINE SCOPE: TOOLS AND TECHNIQUES   \"^^xsd:string ;     rdfs:subClassOf pr:5.2_COLLECT_REQUIREMENTS_OUTPUTS .  <http://example.org/projectOntology/5.2_COLLECT_REQUIREMENTS > rdfs:isDefinedBy \"  ENTERPRISE ENVIRONMENTAL FACTORS  The enterprise environmental factors that can influence the Collect Requirements process include but are not limited to:  Organization’s culture,   Infrastructure,   Personnel administration, and   Marketplace conditions.   \"^^xsd:string .  <http://example.org/projectOntology/5.3.1.2_PROJECT_MANAGEMENT_PLAN > rdfs:isDefinedBy \"  PRODUCT ANALYSIS  Product analysis can be used to define products and services. It includes asking questions about a product or service and forming answers to describe the use, characteristics, and other relevant aspects of what is going to be delivered.  Each application area has one or more generally accepted methods for translating highlevel product or service descriptions into meaningful deliverables. Requirements are captured at a high level and decomposed to the level of detail needed to design the final product. Examples of product analysis techniques include but are not limited to:   Product breakdown,  Requirements analysis,  Systems analysis,   Systems engineering,  Value analysis, and   Value engineering.  153 5.3.3 DEFINE SCOPE: OUTPUTS   \"^^xsd:string .  <http://example.org/projectOntology/5.3.1.3_PROJECT_DOCUMENTS > rdfs:isDefinedBy \"  PROJECT SCOPE STATEMENT  The project scope statement is the description of the project scope, major deliverables, assumptions, and constraints. The project scope statement documents the entire scope, including project and product scope. It describes the project’s deliverables in detail. It also provides a common understanding of the project scope among project stakeholders. It may contain explicit scope exclusions that can assist in managing stakeholder expectations. It enables the project team to perform more detailed planning, guides the project team’s work during execution, and provides the baseline for evaluating whether requests for changes or additional work are contained within or outside the projects boundaries.  The degree and level of detail to which the project scope statement defines the work that will be performed and the work that is excluded can help determine how well the project management team can control the overall project scope. The detailed project scope statement, either directly or by reference to other documents, includes the following:   Product scope description. Progressively elaborates the characteristics of the product, service, or result described in the project charter and requirements documentation.   Deliverables. Any unique and verifiable product, result, or capability to perform a service that is required to be produced to complete a process, phase, or project. Deliverables also include ancillary results, such as project management reports and documentation. These deliverables may be described at a summary levelr in great detail.   Acceptance criteria. A set of conditions that is required to be met before deliverables are accepted.   Project exclusions. Identifies what is excluded from the project. Explicitly stating what is out of scope for the project helps manage stakeholders’ expectations and can reduce scope creep.  Although the project charter and the project scope statement are sometimes perceived as containing a certain degree of redundancy, they are different in the level of detail contained in each. The project charter contains high level information, while the project scope statement contains a detailed description of the scope components. These components are progressively elaborated throughout the project. Table 51 describes some of the key elements for each document.  154  Table 51. Elements of the Project Charter and Project Scope Statement  Project Charter  Project purpose  Measurable project objectives and related success criteria  Highlevel requirements  Highlevel project description, boundaries,  Project Scope Statement  Project scope description (progressively elaborated)  Project deliverables Acceptance criteria  Project exclusions  and key deliverables  Overall project risk  Summary milestone schedule Preapproved financial resources Key stakeholder list  Project approval requirements (i.e., what constitutes success, who decides the project is successful, who signs off on the project)  Project exit criteria (i.e., what are the conditions to be met in order to close or to cancel the project or phase  Assigned project manager, responsibility, and authority level  Name and authority of the sponsor or other person(s) authorizing the project charter   \"^^xsd:string .  <http://example.org/projectOntology/5.3.1.5_ORGANIZATIONAL_PROCE_AETS > rdfs:isDefinedBy \" . Requirements documentation may be updated with additional or changed requirements.   Requirements traceability matrix. Described in Section  \"^^xsd:string .  <http://example.org/projectOntology/5.3.2.1_EXPERT_JUDGMENT > rdfs:isDefinedBy \"  PROJECT MANAGEMENT PLAN  A project management plan component includes but is not limited to the scope management plan. Described in Section  \"^^xsd:string .  <http://example.org/projectOntology/5.3.2.2_DATA_ANALYSIS > rdfs:isDefinedBy \" , the scope management plan documents how the WBS will be created from the project scope statement.   \"^^xsd:string .  <http://example.org/projectOntology/5.3.2.3_DECISION_MAKING > rdfs:isDefinedBy \"  PROJECT DOCUMENTS Examples of project documents that can be considered as inputs for this process include but are not limited to:   Project scope statement. Described in Section  \"^^xsd:string .  <http://example.org/projectOntology/5.3.2.4_INTERPERSONAL_AND_TEAM_SKILLS > rdfs:isDefinedBy \" . The project scope statement describes the work that will be performed and the work that is excluded.   Requirements documentation. Described in Section  \"^^xsd:string .  <http://example.org/projectOntology/5.3.2.5_PRODUCT_ANALYSIS > rdfs:isDefinedBy \" . Detailed requirements describe how individual requirements meet the business need for the project.   \"^^xsd:string .  <http://example.org/projectOntology/5.3.3.1_PROJECT_SCOPE_STATEMENT > rdfs:isDefinedBy \"  ORGANIZATIONAL PROCE AETS The organizational process assets that can influence the Create WBS process include but are not limited to:  Policies, procedures, and templates for the WBS;   Project files from previous projects; and   Lessons learned from previous projects.  157 5.4.2 CREATE WBS: TOOLS AND TECHNIQUES   \"^^xsd:string .  <http://example.org/projectOntology/5.3.3_DEFINE_SCOPE:_OUTPUTS > rdfs:isDefinedBy \"  ENTERPRISE ENVIRONMENTAL FACTORS  The enterprise environmental factors that can influence the Create WBS process include but are not limited to industryspecific WBS standards that are relevant to the nature of the project. These industryspecific standards may serve as external reference sources for creating the WBS.   \"^^xsd:string ;     rdfs:subClassOf pr:5.3_DEFINE_SCOPE_OUTPUTS .  <http://example.org/projectOntology/5.3_DEFINE_SCOPE > rdfs:isDefinedBy \"  DECISION MAKING  Described in Section  \"^^xsd:string .  <http://example.org/projectOntology/5.4.1.3_ENTERPRISE_ENVIRONMENTAL_FACTORS > rdfs:isDefinedBy \" . The project management plan specifies how formal acceptance of the completed project deliverables will be obtained.   Requirements management plan. Described in Section  \"^^xsd:string .  <http://example.org/projectOntology/5.4.1.4_ORGANIZATIONAL_PROCE_AETS > rdfs:isDefinedBy \" . The requirements management plan describes how the project requirements are validated.   Scope baseline. Described in Section  \"^^xsd:string .  <http://example.org/projectOntology/5.4.1_CREATE_WBS:_INPUTS > rdfs:isDefinedBy \" ).   WBS. The WBS is a hierarchical decomposition of the total scope of work to be carried out by the project team to accomplish the project objectives and create the required deliverables. Each descending level of the WBS represents an increasingly detailed definition of the project work.   Work package. The lowest level of the WBS is a work package with a unique identifier. These identifiers provide a structure for hierarchical summation of costs, schedule, and resource information and form a code of accounts. Each work package is part of a control account. A control account is a management control point where scope, budget, and schedule are integrated and compared to the earned value for performance measurement. A control account has two or more work packages, though each work package is associated with a single control account.   Planning package. A control account may include one or more planning packages. A planning package is a work breakdown structure component below the control account and above the work package with known work content but without detailed schedule activities.  161  WBS dictionary. The WBS dictionary is a document that provides detailed deliverable, activity, and scheduling information about each component in the WBS. The WBS dictionary is a document that supports the WBS. Mostf the information included in the WBS dictionary is created by other processes and added to this document at a   \"^^xsd:string ;     rdfs:subClassOf pr:5.4_Create_WBS_INPUTS .  <http://example.org/projectOntology/5.4.2.2_DECOMPOSITION > rdfs:isDefinedBy \" . Requirements are compared to the actual results to determine if a change, corrective action, or preventive action is necessary.   Requirements traceability matrix. Described in Section  \"^^xsd:string .  <http://example.org/projectOntology/5.4.2_CREATE_WBS:_TOOLS_AND_TECHNIQUES > rdfs:isDefinedBy \" . The scope baseline is compared to actual results to determine if a change, corrective action, or preventive action is necessary.   \"^^xsd:string ;     rdfs:subClassOf pr:5.4_Create_WBS_TOOLS_AND_TECHNIQUES .  <http://example.org/projectOntology/5.4.3.1_SCOPE_BASELINE > rdfs:isDefinedBy \"  VERIFIED DELIVERABLES  Verified deliverables are project deliverables that are completed and checked for correctness through the Control Quality process.   \"^^xsd:string .  <http://example.org/projectOntology/5.4.3_CREATE_WBS:_OUTPUTS > rdfs:isDefinedBy \" . The requirements traceability matrix contains information about requirements, including how they will be validated.   \"^^xsd:string ;     rdfs:subClassOf pr:5.4_Create_WBS_OUTPUTS .  <http://example.org/projectOntology/5.4_Create_WBS > rdfs:isDefinedBy \"  SCOPE BASELINE  The scope baseline is the approved version of a scope statement, WBS, and its associated WBS dictionary, which can be changed only through formal change control procedures and is used as a basis for comparison. It is a component of the project management plan. Components of the scope baseline include:   Project scope statement. The project scope statement includes the description of the project scope, major deliverables, assumptions, and constraints (Section  \"^^xsd:string .  <http://example.org/projectOntology/5.5.1.1_PROJECT_MANAGEMENT_PLAN > rdfs:isDefinedBy \" . An example of decision making that may be used in this process includes but is not limited to voting. Voting is used to reach a conclusion when the validation is performed by the project team and other stakeholders.  5.5.3 VALIDATE SCOPE: OUTPUTS   \"^^xsd:string .  <http://example.org/projectOntology/5.5.1.2_PROJECT_DOCUMENTS > rdfs:isDefinedBy \"  ACCEPTED DELIVERABLES  Deliverables that meet the acceptance criteria are formally signed off and approved by the customer or sponsor. Formal documentation received from the customer or sponsor acknowledging formal stakeholder acceptance of the project’s deliverables is forwarded to the Close Project or Phase process (Section 4.7).   \"^^xsd:string .  <http://example.org/projectOntology/5.5.1.3_VERIFIED_DELIVERABLES > rdfs:isDefinedBy \"  WORK PERFORMANCE INFORMATION  Work performance information includes information about project progress, such as which deliverables have been accepted and which have not been accepted and the reasons why. This information is documented as described in Section 10.3.3.1 and communicated to stakeholders.   \"^^xsd:string .  <http://example.org/projectOntology/5.5.1.4_WORK_PERFORMANCE_DATA > rdfs:isDefinedBy \"  CHANGE REQUESTS  The completed deliverables that have not been formally accepted are documented, along with the reasons for nonacceptance of those deliverables. Those deliverables may require a change request for defect repair. The change requests (described in Section 4.3.3.4) are processed for review and disposition through the Perform Integrated Change Control process (Section 4.6).  166   \"^^xsd:string .  <http://example.org/projectOntology/5.5.1_VALIDATE_SCOPE:_INPUTS > rdfs:isDefinedBy \"  DECISION MAKING  Described in Section  \"^^xsd:string ;     rdfs:subClassOf pr:5.1_PLAN_SCOPE_MANAGEMENT_INPUTS .  <http://example.org/projectOntology/5.5.2.1_INSPECTION > rdfs:isDefinedBy \" . The requirements documentation may be updated with the actual results of validation activity. Of particular interest is when the actual results are better than the requirement or where a requirement was waived.   Requirements traceability matrix. Described in Section  \"^^xsd:string .  <http://example.org/projectOntology/5.5.3.1_ACCEPTED_DELIVERABLES > rdfs:isDefinedBy \" . The scope management plan documents how the project and product scope will be controlled.   Requirements management plan. Described in Section  \"^^xsd:string .  <http://example.org/projectOntology/5.6.1.1_PROJECT_MANAGEMENT_PLAN > rdfs:isDefinedBy \"  WORK PERFORMANCE DATA  Work performance data can include the number of change requests received, the number of requests accepted, and the number of deliverables verified, validated, and completed.  169  \"^^xsd:string .  <http://example.org/projectOntology/5.6.1.2_PROJECT_DOCUMENTS > rdfs:isDefinedBy \"  ORGANIZATIONAL PROCE AETS The organizational process assets that can influence the Control Scope process include but are not limited to:   Existing formal and informal scope, controlrelated policies, procedures, guidelines; and   Monitoring and reporting methods and templates to be used.  5.6.2 CONTROL SCOPE: TOOLS AND TECHNIQUES   \"^^xsd:string .  <http://example.org/projectOntology/5.6.1.4_ORGANIZATIONAL_PROCE_AETS > rdfs:isDefinedBy \" ) and deciding whether corrective or preventive action is required.  5.6.3 CONTROL SCOPE: OUTPUTS   \"^^xsd:string .  <http://example.org/projectOntology/5.6.1_CONTROL_SCOPE:_INPUTS > rdfs:isDefinedBy \" . The requirements traceability matrix helps to detect the impact of any change or deviation from the scope baseline on the project objectives. It may also provide status of requirements being controlled.   \"^^xsd:string ;     rdfs:subClassOf pr:5.6_CONTROL_SCOPE_INPUTS .  <http://example.org/projectOntology/5.6.2_CONTROL_SCOPE:_TOOLS_AND_TECHNIQUES > rdfs:isDefinedBy \"  WORK PERFORMANCE INFORMATION  Work performance information produced includes correlated and contextualized information on how the project and product scope are performing compared to the scope baseline. It can include the categories of the changes received, the identified scope variances and their causes, how they impact schedule or cost, and the forecast of the future scope performance.   \"^^xsd:string ;     rdfs:subClassOf pr:5.6_CONTROL_SCOPE_TOOLS_AND_TECHNIQUES .  <http://example.org/projectOntology/5.6.3.1_WORK_PERFORMANCE_INFORMATION > rdfs:isDefinedBy \" . The scope management plan may be updated to reflect a change in how the scope is managed.   Scope baseline. Described in Section  \"^^xsd:string .  <http://example.org/projectOntology/5.6.3.4_PROJECT_DOCUMENTS_UPDATES > rdfs:isDefinedBy \" . Requirements documentation may be updated with additional or changed requirements.   Requirements traceability matrix. Described in Section  \"^^xsd:string .  <http://example.org/projectOntology/5.6.3_CONTROL_SCOPE:_OUTPUTS > rdfs:isDefinedBy \"  PROJECT MANAGEMENT PLAN UPDATES  Any change to the project management plan goes through the organization’s change control process via a change request. Components that may require a change request for the project management plan include but are not limited to:   Scope management plan. Described in Section  \"^^xsd:string ;     rdfs:subClassOf pr:5.6_CONTROL_SCOPE_OUTPUTS .  <http://example.org/projectOntology/5.6_CONTROL_SCOPE > rdfs:isDefinedBy \" . Requirements documentation is used to detect any deviation in the agreedupon scope for the project or product.   Requirements traceability matrix. Described in Section  \"^^xsd:string .  pr:Described_in a owl:DatatypeProperty ;     rdfs:domain <http://example.org/projectOntology/5.1.1.4_ORGANIZATIONAL_PROCE_AETS >,         <http://example.org/projectOntology/5.1.1_PLAN_SCOPE_MANAGEMENT:_INPUTS >,         <http://example.org/projectOntology/5.1.2.1_EXPERT_JUDGMENT >,         <http://example.org/projectOntology/5.1.2_PLAN_SCOPE_MANAGEMENT:_TOOLS_AND_TECHNIQUES >,         <http://example.org/projectOntology/5.1.3_PLAN_SCOPE_MANAGEMENT:_OUTPUTS >,         <http://example.org/projectOntology/5.2.1.1_PROJECT_CHARTER >,         <http://example.org/projectOntology/5.2.1.2_PROJECT_MANAGEMENT_PLAN >,         <http://example.org/projectOntology/5.2.1.3_PROJECT_DOCUMENTS >,         <http://example.org/projectOntology/5.2.1.6_ENTERPRISE_ENVIRONMENTAL_FACTORS >,         <http://example.org/projectOntology/5.2.1.7_ORGANIZATIONAL_PROCE_AETS >,         <http://example.org/projectOntology/5.2.2.2_DATA_GATHERING >,         <http://example.org/projectOntology/5.2.2.3_DATA_ANALYSIS >,         <http://example.org/projectOntology/5.2.2.4_DECISION_MAKING >,         <http://example.org/projectOntology/5.2.2.6_INTERPERSONAL_AND_TEAM_SKILLS >,         <http://example.org/projectOntology/5.2.3.1_REQUIREMENTS_DOCUMENTATION >,         <http://example.org/projectOntology/5.3.1.1_PROJECT_CHARTER >,         <http://example.org/projectOntology/5.3.1.4_ENTERPRISE_ENVIRONMENTAL_FACTORS >,         <http://example.org/projectOntology/5.3.1_DEFINE_SCOPE:_INPUTS >,         <http://example.org/projectOntology/5.3.2_DEFINE_SCOPE:_TOOLS_AND_TECHNIQUES >,         <http://example.org/projectOntology/5.3.3.2_PROJECT_DOCUMENTS_UPDATES >,         <http://example.org/projectOntology/5.4.1.1_PROJECT_MANAGEMENT_PLAN >,         <http://example.org/projectOntology/5.4.1.2_PROJECT_DOCUMENTS >,         <http://example.org/projectOntology/5.4.2.1_EXPERT_JUDGMENT >,         <http://example.org/projectOntology/5.4.3.2_PROJECT_DOCUMENTS_UPDATES >,         <http://example.org/projectOntology/5.4_CREATE_WBS >,         <http://example.org/projectOntology/5.5.2.2_DECISION_MAKING >,         <http://example.org/projectOntology/5.5.2_VALIDATE_SCOPE:_TOOLS_AND_TECHNIQUES >,         <http://example.org/projectOntology/5.5.3.2_WORK_PERFORMANCE_INFORMATION >,         <http://example.org/projectOntology/5.5.3.3_CHANGE_REQUESTS >,         <http://example.org/projectOntology/5.5.3.4_PROJECT_DOCUMENTS_UPDATES >,         <http://example.org/projectOntology/5.5.3_VALIDATE_SCOPE:_OUTPUTS >,         <http://example.org/projectOntology/5.5_VALIDATE_SCOPE >,         <http://example.org/projectOntology/5.6.1.3_WORK_PERFORMANCE_DATA >,         <http://example.org/projectOntology/5.6.2.1_DATA_ANALYSIS >,         <http://example.org/projectOntology/5.6.3.2_CHANGE_REQUESTS >,         <http://example.org/projectOntology/5.6.3.3_PROJECT_MANAGEMENT_PLAN_UPDATES > ;     rdfs:range xsd:string .  pr:can_be_consider a owl:ObjectProperty ;     rdfs:domain pr:project_document_example_project_document ;     rdfs:range pr:input_process .  <http://example.org/projectOntology/5.1.1.4_ORGANIZATIONAL_PROCE_AETS > pr:Described_in \"[\\'depicted in Figure 54\\', \\'Figure 54\\', \\'Figure 55\\', \\'Figure 54\\', \\'Figure 55\\']\"^^xsd:string ;     rdfs:isDefinedBy \"  REQUIREMENTS MANAGEMENT PLAN  The requirements management plan is a component of the project management plan that describes how project and product requirements will be analyzed, documented, and managed. According to Business Analysis for Practitioners: A Practice Guide [7], some organizations refer to it as a business analysis plan. Components of the requirementsanagement plan can include but are not limited to:   How requirements activities will be planned, tracked, and reported;   Configuration management activities such as: how changes will be initiated; how impacts will be analyzed; how they will be traced, tracked, and reported; as well as the authorization levels required to approve these changes;   Requirements prioritization process;  Metrics that will be used and the rationale for using them; and   Traceability structure that reflects the requirement attributes captured on the traceability matrix.  137 5.2 COLLECT REQUIREMENTS  Collect Requirements is the process of determining, documenting, and managing stakeholder needs and requirements to meet objectives. The key benefit of this process is that it provides the basis for defining the product scope and project scope. This process is performed once or at predefined points in the project. The inputs, tools and techniques, andutputs of this process are depicted in Figure 54. Figure 55 depicts the data flow diagram of the process.  Collect Requirements  f —mputs Tools & Techniques Outputs .1 Project charter 1 Expert judgment .1 Requirements documentation .2 Project management plan .2 Data gathering .2 Requirements traceability   Scope management plan  Brainstorming matrix  Requirements management  Interviews plan  Focus groups  Stakeholder engagement  Questionnaires and plan surveys .3 Project documents  Benchmarking  Assumption log .3 Data analysis Lessons learned register  Document analysis  Stakeholder register 4 Decision making 4 Business documents  Voting + Business case  Multicriteria decision .5 Agreements analysis .6 Enterprise environmental 5 Data representation factors Affinity diagrams .7 Organizational process assets  Mind mapping / .6 Interpersonal and team skills  Nominal group technique  Observation/conversation  Facilitation .7 Context diagram 8 Prototypes  Figure 54. Collect Requirements: Inputs, Tools & Techniques, and Outputs  138  4.14 Develop Project Charter   Project charter  Project Management Plan  ae  Project management plan  Requirements management plan  Scope management plan  Stakeholder engagement plan  Project Documents 5.2 Collect eeccccccesosccscee Project Requirements ‘ Requirements Documents Project documents documentation  Assumption log Requirements  Lessons learned register traceability matrix  Stakeholder register  Business Documents    Business documents Business case  12.2 Conduct Procurements   Agreements  Enterprise/ Organization   Enterprise environmental factors  Organizational process assets  Figure 55. Collect Requirements: Data Flow Diagram  139 The PMBOK® Guide does not specifically address product requirements since those are industry specific. Note that Business Analysis for Practitioners: A Practice Guide [7] provides more indepth information about product requirements. The project’s success is directly influenced by active stakeholder involvement in the discovery and decomposition of needs into project and product requirements and by the care taken in determining, documenting, and managing the requirements of the product, service, or result of the project. Requirements include conditions or capabilities that are required to be present in a product, service, or result to satisfy an agreement or other formally imposed specification. Requirements include the quantified and documented needs and expectations of the sponsor, customer, and other stakeholders. These requirements need to be elicited, analyzed, and recorded in enough detail to be included in the scope baseline and to be measured once project execution begins. Requirements become the foundation of the WBS. Cost, schedule, quality planning, and procurement are all based on these requirements.  5.2.1 COLLECT REQUIREMENTS: INPUTS   \"^^xsd:string .  <http://example.org/projectOntology/5.1.1_PLAN_SCOPE_MANAGEMENT:_INPUTS > pr:Described_in \"[\\'Described in Section 4.1.2.1\\']\"^^xsd:string ;     rdfs:isDefinedBy \"  EXPERT JUDGMENT  \"^^xsd:string ;     rdfs:subClassOf pr:5.1_PLAN_SCOPE_MANAGEMENT_INPUTS .  <http://example.org/projectOntology/5.1.2.1_EXPERT_JUDGMENT > pr:Described_in \"[\\'Described in Section 4.2.3.1\\']\"^^xsd:string ;     rdfs:isDefinedBy \"  PROJECT MANAGEMENT PLAN \"^^xsd:string .  <http://example.org/projectOntology/5.1.2_PLAN_SCOPE_MANAGEMENT:_TOOLS_AND_TECHNIQUES > pr:Described_in \"[\\'Described in Section 4.1.3.1\\']\"^^xsd:string ;     rdfs:isDefinedBy \"  PROJECT CHARTER  \"^^xsd:string ;     rdfs:subClassOf pr:5.1_PLAN_SCOPE_MANAGEMENT_TOOLS_AND_TECHNIQUES .  <http://example.org/projectOntology/5.1.3_PLAN_SCOPE_MANAGEMENT:_OUTPUTS > pr:Described_in \"[\\'Described in Section 4.1.3.2\\', \\'Described in Section 4.4.3.1\\']\"^^xsd:string ;     rdfs:isDefinedBy \"  PROJECT DOCUMENTS  Examples of project documents that can be considered as inputs for this process include but are not limited to:   Assumption Log. \"^^xsd:string ;     rdfs:subClassOf pr:5.1_PLAN_SCOPE_MANAGEMENT_OUTPUTS .  pr:5.1_PLAN_SCOPE_MANAGEMENT_OUTPUTS rdfs:subClassOf pr:5.1_PLAN_SCOPE_MANAGEMENT .  pr:5.1_PLAN_SCOPE_MANAGEMENT_TOOLS_AND_TECHNIQUES rdfs:subClassOf pr:5.1_PLAN_SCOPE_MANAGEMENT .  <http://example.org/projectOntology/5.2.1.1_PROJECT_CHARTER > pr:Described_in \"[\\'Described in Section 4.1.2.1\\']\"^^xsd:string ;     rdfs:isDefinedBy \"  EXPERT JUDGMENT  \"^^xsd:string .  <http://example.org/projectOntology/5.2.1.2_PROJECT_MANAGEMENT_PLAN > pr:Described_in \"[\\'Described in Section 4.1.2.2\\', \\'Described in Section 8.1.2.2\\']\"^^xsd:string ;     rdfs:isDefinedBy \"  DATA GATHERING Datagathering techniques that can be used for this process include but are not limited to:   Brainstorming. \"^^xsd:string .  <http://example.org/projectOntology/5.2.1.3_PROJECT_DOCUMENTS > pr:Described_in \"[\\'Described in Section 4.5.2.2\\']\"^^xsd:string ;     rdfs:isDefinedBy \"  DATA ANALYSIS  \"^^xsd:string .  <http://example.org/projectOntology/5.2.1.6_ENTERPRISE_ENVIRONMENTAL_FACTORS > pr:Described_in \"[\\'Described in Section 4.1.2.3\\', \\'Described in Section 4.1.2.3\\']\"^^xsd:string ;     rdfs:isDefinedBy \"  INTERPERSONAL AND TEAM SKILLS  \"^^xsd:string .  <http://example.org/projectOntology/5.2.1.7_ORGANIZATIONAL_PROCE_AETS > pr:Described_in \"[\\'Figure 56\\', \\'Figure 56\\']\"^^xsd:string ;     rdfs:isDefinedBy \"  CONTEXT DIAGRAM  The context diagram is an example of a scope model. Context diagrams visually depict the product scope by showing a business system (process, equipment, computer system, etc.), and how people and other systems (actors) interact with it (see Figure 56). Context diagrams show inputs to the business system, the actor(s) providing the input, theutputs from the business system, and the actor(s) receiving the output.  HR Talent Management Systems of ABC Company  <a Users External i>  Hiring Recruiting Managers Agencies  a  Internal External User Jobs Profiles Postings  Internal Job Associates _™ Seekers  Internal External Jobs User Postings Profiles  Internal  FullTime and External PartTime Jobs Contractors Websites  < tra Users External =  Internal Users Internal Data Flow External Users <2) External Data Flow  Figure 56. Context Diagram  146   \"^^xsd:string .  <http://example.org/projectOntology/5.2.2.2_DATA_GATHERING > pr:Described_in \"[\\'depicted in Figure 58\\', \\'Figure 57\\', \\'Figure 57\\', \\'Figure 58\\', \\'Figure 59\\', \\'Figure 58\\', \\'Figure 59\\']\"^^xsd:string ;     rdfs:isDefinedBy \"  REQUIREMENTS TRACEABILITY MATRIX  The requirements traceability matrix is a grid that links product requirements from their origin to the deliverables that satisfy them. The implementation of a requirements traceability matrix helps ensure that each requirement adds business value by linking it to the business and project objectives. It provides a means to track requirements throughout the project life cycle, helping to ensure that requirements approved in the requirements documentation are delivered at the end of the project. Finally, it provides a structure for managing changes to the product scope.  148  Tracing requirements includes but is not limited to:  Business needs, opportunities, goals, and objectives;  Project objectives;  Project scope and WBS deliverables;  Product design;  Product development;  Test strategy and test scenarios; and  Highlevel requirements to more detailed requirements.  Attributes associated with each requirement can be recorded in the requirements traceability matrix. These attributes help to define key information about the requirement. Typical attributes used in the requirements traceabilityatrix may include: a unique identifier, a textual description of the requirement, the rationale for inclusion, owner, source, priority, version, current status (such as active, cancelled, deferred, added, approved, assigned, completed), and status date. Additional attributes to ensure that the requirement has met stakeholders’ satisfaction may include stability, complexity, and acceptance criteria. Figure 57 provides an example of a requirements traceability matrix with its associated attributes.  Requirements Traceability Matrix  Project Name:  Cost Center:  Project Description:  Business Needs,  Associate ae need Project WBS Product Product Requirements Description Opportunities, , ,  1.0  11  1.2  1.24  2.0  21  241  3.0  3.1  3.2  4.0  5.0  Figure 57. Example of a Requirements Traceability Matrix  149 5.3 DEFINE SCOPE  Define Scope is the process of developing a detailed description of the project and product. The key benefit of this process is that it describes the product, service, or result boundaries and acceptance criteria. The inputs, tools and techniques, and outputs of this process are depicted in Figure 58. Figure 59 depicts the data flow diagramf the process.  Define Scope  Tools & Techniques  .1 Project charter 1 Expert judgment .1 Project scope statement .2 Project management plan .2 Data analysis .2 Project documents updates  Scope management plan  Alternatives analysis  Assumption log .3 Project documents 3 Decision making  Requirements  Assumption log  Multicriteria decision documentation   Requirements analysis  Requirements traceability documentation 4 Interpersonal and team skills matrix  Risk register ° Facilitation  Stakeholder register .4 Enterprise environmental .5 Product analysis factors 5 Organizational process assets  Figure 58. Define Scope: Inputs, Tools & Techniques, and Outputs  150  41 Develop Project Charter   Project charter  ————  Project Management  Plan POU  Soe  Project management plan Scope management pl   Project scope statement  5.3 Define Project Scope Project document updates   Assumption log Documents Requirements documentation   Requirements traceability matrix Se  Stakeholder register Project documents Assumption log  Requirements documentation Risk register  Project Documents  Enterprise/ Organization  Enterprise environmental factors Organizational process assets  Figure 59. Define Scope: Data Flow Diagram  Since all the requirements identified in Collect Requirements may not be included in the project, the Define Scope process selects the final project requirements from the requirements documentation developed during the Collect Requirements process. It then develops a detailed description of the project and product, service, or result.  The preparation of a detailed project scope statement builds upon the major deliverables, assumptions, and constraints that are documented during project initiation. During project planning, the project scope is defined and described with greater specificity as more information about the project is known. Existing risks, assumptions, and constraints are analyzed for completeness and added or updated as necessary. The Define Scope process can be highly iterative. In iterative life cycle projects, a highlevel vision will be developed for the overall project, but the detailed scope is determined one iteration at a time, and the detailed planning for the next iteration is carried out as work progressesn the current project scope and deliverables.  151 5.3.1 DEFINE SCOPE: INPUTS   \"^^xsd:string .  <http://example.org/projectOntology/5.2.2.3_DATA_ANALYSIS > pr:Described_in \"[\\'Described in Section 4.1.3.1\\']\"^^xsd:string ;     rdfs:isDefinedBy \"  PROJECT CHARTER  \"^^xsd:string .  <http://example.org/projectOntology/5.2.2.4_DECISION_MAKING > pr:Described_in \"[\\'Described in Section 4.2.3.1\\']\"^^xsd:string ;     rdfs:isDefinedBy \"  PROJECT MANAGEMENT PLAN  \"^^xsd:string .  <http://example.org/projectOntology/5.2.2.6_INTERPERSONAL_AND_TEAM_SKILLS > pr:Described_in \"[\\'Described in Section 4.1.3.2\\']\"^^xsd:string ;     rdfs:isDefinedBy \"  PROJECT DOCUMENTS  Examples of project documents that can be considered as inputs for this process include but are not limited to:   Assumption log. \"^^xsd:string .  <http://example.org/projectOntology/5.2.3.1_REQUIREMENTS_DOCUMENTATION > pr:Described_in \"[\\'Described in Section 4.1.2.1\\']\"^^xsd:string ;     rdfs:isDefinedBy \"  EXPERT JUDGMENT  \"^^xsd:string .  pr:5.2_COLLECT_REQUIREMENTS_INPUTS rdfs:subClassOf pr:5.2_COLLECT_REQUIREMENTS .  pr:5.2_COLLECT_REQUIREMENTS_OUTPUTS rdfs:subClassOf pr:5.2_COLLECT_REQUIREMENTS .  <http://example.org/projectOntology/5.3.1.1_PROJECT_CHARTER > pr:Described_in \"[\\'Described in Section 4.1.2.3\\']\"^^xsd:string ;     rdfs:isDefinedBy \"  INTERPERSONAL AND TEAM SKILLS  \"^^xsd:string .  <http://example.org/projectOntology/5.3.1.4_ENTERPRISE_ENVIRONMENTAL_FACTORS > pr:Described_in \"[\\'Described in Section 4.1.3.2\\']\"^^xsd:string ;     rdfs:isDefinedBy \"  PROJECT DOCUMENTS UPDATES Project documents that may be updated as a result of carrying out this process include but are not limited to:   Assumption log. \"^^xsd:string .  <http://example.org/projectOntology/5.3.1_DEFINE_SCOPE:_INPUTS > pr:Described_in \"[\\'Described in Section 8.1.2.4\\']\"^^xsd:string ;     rdfs:isDefinedBy \" . A decisionmaking technique that can be used in this process includes but is not limited to multicriteria decision analysis. \"^^xsd:string ;     rdfs:subClassOf pr:5.3_DEFINE_SCOPE_INPUTS .  <http://example.org/projectOntology/5.3.2_DEFINE_SCOPE:_TOOLS_AND_TECHNIQUES > pr:Described_in \"[\\'depicted in Figure 510\\', \\'Figure 510\\', \\'Figure 511\\', \\'Figure 510\\', \\'Figure 511\\']\"^^xsd:string ;     rdfs:isDefinedBy \" . The requirements traceability matrix may be updated to reflect updates in requirement documentation.   Stakeholder register. \"^^xsd:string ;     rdfs:subClassOf pr:5.3_DEFINE_SCOPE_TOOLS_AND_TECHNIQUES .  <http://example.org/projectOntology/5.3.3.2_PROJECT_DOCUMENTS_UPDATES > pr:Described_in \"[\\'Described in Section 4.1.2.1\\']\"^^xsd:string ;     rdfs:isDefinedBy \"  EXPERT JUDGMENT  \"^^xsd:string .  pr:5.3_DEFINE_SCOPE_INPUTS rdfs:subClassOf pr:5.3_DEFINE_SCOPE .  pr:5.3_DEFINE_SCOPE_TOOLS_AND_TECHNIQUES rdfs:subClassOf pr:5.3_DEFINE_SCOPE .  <http://example.org/projectOntology/5.4.1.1_PROJECT_MANAGEMENT_PLAN > pr:Described_in \"[\\'Described in Section 4.1.3.2\\']\"^^xsd:string ;     rdfs:isDefinedBy \"  PROJECT DOCUMENTS UPDATES  later stage. Information in the WBS dictionary may include but is not limited to:  Code of account identifier, Description of work, Assumptions and constraints, Responsible organization, Schedule milestones, Associated schedule activities, Resources required,  Cost estimates,  Quality requirements, Acceptance criteria, Technical references, and Agreement information.  Project documents that may be updated as a result of carrying out this process include but are not limited to: Assumption log. \"^^xsd:string .  <http://example.org/projectOntology/5.4.1.2_PROJECT_DOCUMENTS > pr:Described_in \"[\\'Described in Section 4.2.3.1\\', \\'depicted in Figure 515\\', \\'Figure 515\\', \\'Figure 516\\', \\'Figure 515\\', \\'Figure 516\\']\"^^xsd:string ;     rdfs:isDefinedBy \" . Requirements documentation may be updated  to include approved changes resulting from the Create WBS process.  162   5.5 VALIDATE SCOPE  Validate Scope is the process of formalizing acceptance of the completed project deliverables. The key benefit of this process is that it brings objectivity to the acceptance process and increases the probability of final product, service,r result acceptance by validating each deliverable. This process is performed periodically throughout the project as needed. The inputs, tools and techniques, and outputs of this process are depicted in Figure 515. Figure 516 depicts  the data flow diagram of the process.  Validate Scope  .1 Project management plan  Scope management plan  Requirements management plan  Scope baseline .2 Project documents  Lessons learned register  Quality reports  Requirements documentation  Requirements traceabilityatrix .3 Verified deliverables  4 Work performance data  Tools & Techniques  1 Inspection .2 Decision making  Voting  Outputs  .1 Accepted deliverables .2 Work performance  information  .3 Change requests .4 Project document updates   Lessons learned register   Requirements documentation   Requirements traceabilityatrix  Figure 515. Validate Scope: Inputs, Tools & Techniques, and Outputs  163 Project Management Plan  Project management plan   Scope management plan  Requirements management plan   Scope baseline  4.3 Direct and Manage Project Execution   Work performance data  8.3 Control Quality  5.5 Validate Scope   Verified deliverables  Project Documents  Project documents   Lessons learned register   Quality report   Requirements documentation  Requirements traceability matrix   Accepted deliverables  47 Close Projectr Phase  Change requests  46 Perform Integrated Change Control   Work  performance  45 Monitor and Control Project Work  information  eteeecceccescnscncegeoccescscesens  Project documents updates   Lessons learned register   Requirements documentation   Requirements traceabilityatrix  Figure 516. Validate Scope: Data Flow Diagram  Project Documents a  The verified deliverables obtained from the Control Quality process are reviewed with the customer or sponsor to ensure they are completed satisfactorily and have received formal acceptance of the deliverables by the customer or sponsor. In this process, the outputs obtained as a result of the Planning processes in the Project Scope Management Knowledge Area, such as the requirements documentation or the scope baseline, as well as the work performance databtained from the Execution processes in other Knowledge Areas, are the basis for performing the validation and for  final acceptance.  The Validate Scope process differs from the Control Quality process in that the former is primarily concerned with acceptance of the deliverables, while the latter is primarily concerned with correctness of the deliverables and meeting the quality requirements specified for the deliverables. Control Quality is generally performed before Validate Scope, although the two processes may be performed in parallel.  164   5.5.1 VALIDATE SCOPE: INPUTS  5. PROJECT MANAGEMENT PLAN \"^^xsd:string .  <http://example.org/projectOntology/5.4.2.1_EXPERT_JUDGMENT > pr:Described_in \"[\\'Described in Section 4.4.3.1\\', \\'Described in Section 8.2.3.1\\']\"^^xsd:string ;     rdfs:isDefinedBy \"  PROJECT DOCUMENTS Project documents that can be considered as inputs for this process include but are not limited to:   Lessons learned register: \"^^xsd:string .  <http://example.org/projectOntology/5.4.3.2_PROJECT_DOCUMENTS_UPDATES > pr:Described_in \"[\\'Described in Section 4.3.3.2\\']\"^^xsd:string ;     rdfs:isDefinedBy \"  WORK PERFORMANCE DATA  \"^^xsd:string .  <http://example.org/projectOntology/5.4_CREATE_WBS > pr:Described_in \"[\\'Figure 512\\', \\'Figure 512\\', \\'Figure 513\\', \\'Figure 514\\', \\'Figure 513\\', \\'Figure 514\\']\"^^xsd:string ;     rdfs:isDefinedBy \"  DECOMPOSITION  Decomposition is a technique used for dividing and subdividing the project scope and project deliverables into smaller, more manageable parts. The work package is the work defined at the lowest level of the WBS for which cost and duration can be estimated and managed. The level of decomposition is often guided by the degree of control needed to effectively manage the project. The level of detail for work packages will vary with the size and complexity of the project. Decomposition of the total project work into work packages generally involves the following activities:   Identifying and analyzing the deliverables and related work,   Structuring and organizing the WBS,   Decomposing the upper WBS levels into lowerlevel detailed components,  Developing and assigning identification codes to the WBS components, and  Verifying that the degree of decomposition of the deliverables is appropriate.  A portion of a WBS with some branches of the WBS decomposed down through the work package level is shown in Figure 512.  1.0 Value Management System Project  11 1.2 13 14 Needs Standards Systems Project Assessment Development Engineering Management  144 1.1.2 11.3 As Current System Requirements Alternatives System Requirements Audit Determination Development Development  1444 11.24 11.3.4 Components Gap Alternatives Identification Assessment Identification  11.1.2 11.2.2 113.2 Components Requirements Alternatives Analysis Changes Identification Analysis  The WBS is illustrative only. It is not intended to represent the full project scope of any specific project, nor to imply that this is the only way to organize a WBS on this type of project.  Figure 512. Sample WBS Decomposed Down Through Work Packages  158  A WBS structure may be created through various approaches. Some of the popular methods include the topdown approach, the use of organizationspecific guidelines, and the use of WBS templates. A bottomup approach can be used to group subcomponents. The WBS structure can be represented in a number of forms, such as:   Using phases of the project life cycle as the second level of decomposition, with the product and project deliverables inserted at the third level, as shown in Figure 513;   Using major deliverables as the second level of decomposition, as shown in Figure 514; and   Incorporating subcomponents that may be developed by organizations outside the project team, such as contracted work. The seller then develops the supporting contract WBS as part of the contracted work.  Software Product Release 5.0  Project Product Detail Integration Management Requirements Design and Test  Planning Software Software Software Software  User User User User Documentation Documentation Documentation Documentation  Meetings  Training Program Training Program Training Program Training Program Materials Materials Materials Materials  Administration  The WBS is illustrative only. It is not intended to represent the full project scope of any specific project, nor to imply that this is the only way to organize a WBS on this type of project.  Figure 513. Sample WBS Organized by Phase  159 Project Support Test and Management Equipment Evaluation  ‘System Engineering Management  Equipment Technical Organizational Base  Training Orders Level SE Buildings Mockups  Supporting Facilities Engineering PIPEPIPE Intermediate Maintenance PIPE PIPEPIPE Operational PM Activities Training Data Level SE Facility Test  Services Management Depot Developmental Training Data Level SE Test  Communication Navigation Fire Control  Airframe Engine System System System  The WBS is illustrative only. It is not intended to represent the full project scope of any specific project, nor to imply that this is the only way to organize a WBS on this type of project.  Figure 514. Sample WBS with Major Deliverables  Decomposition of the upperlevel WBS components requires subdividing the work for each of the deliverables or subcomponents into its most fundamental components, where the WBS components represent verifiable products, services,r results. If an agile approach is used, epics can be decomposed into user stories. The WBS may be structured as anutline, an organizational chart, or other method that identifies a hierarchical breakdown. Verifying the correctness of the decomposition requires determining that the lowerlevel WBS components are those that are necessary and sufficient for completion of the corresponding higherlevel deliverables. Different deliverables can have different levels of decomposition. To arrive at a work package, the work for some deliverables needs to be decomposed only to the next level, while others need additional levels of decomposition. As the work is decomposed to greater levels of detail, the ability to plan, manage, and control the work is enhanced. However, excessive decomposition can lead to nonproductive management effort, inefficient use of resources, decreased efficiency in performing the work, and difficulty aggregating data over different levels of the WBS.  Decomposition may not be possible for a deliverable or subcomponent that will be accomplished far into the future. The project management team usually waits until the deliverable or subcomponent is agreed on, so the details of the WBS can be developed. This technique is sometimes referred to as rolling wave planning.  160  The WBS represents all product and project work, including the project management work. The total of the work at the lowest levels should roll up to the higher levels so that nothing is left out and no extra work is performed. This is sometimes called the 100 percent rule.  For specific information regarding the WBS, refer to the Practice Standard for Work Breakdown Structures — Second Edition [15]. This standard contains industryspecific examples of WBS templates that can be tailored to specific projects in a particular application area.  5.4.3 CREATE WBS: OUTPUTS   \"^^xsd:string .  pr:5.4_Create_WBS_INPUTS rdfs:subClassOf pr:5.4_Create_WBS .  pr:5.4_Create_WBS_OUTPUTS rdfs:subClassOf pr:5.4_Create_WBS .  pr:5.4_Create_WBS_TOOLS_AND_TECHNIQUES rdfs:subClassOf pr:5.4_Create_WBS .  <http://example.org/projectOntology/5.5.2.2_DECISION_MAKING > pr:Described_in \"[\\'depicted in Figure 517\\', \\'Figure 517\\', \\'Figure 518\\', \\'Figure 517\\', \\'Figure 518\\']\"^^xsd:string ;     rdfs:isDefinedBy \" . The requirements traceability matrix is updated with the results of the validation, including the method used and the outcome.  5.6 CONTROL SCOPE  Control Scope is the process of monitoring the status of the project and product scope and managing changes to the scope baseline. The key benefit of this process is that the scope baseline is maintained throughout the project. This process is performed throughout the project. The inputs, tools and techniques, and outputs of this process are depicted in Figure 517. Figure 518 depicts the data flow diagram of the process.  Control Scope  1 Data analysis 1 Work performance  Variance analysis information  Trend analysis Change requests Project management plan updates  Scope management plan  Scope baseline  Schedule baseline  Cost baseline  Performance measurement baseline 4 Project documents updates  Lessons learned register  Requirements documentation  Requirements traceabilityatrix  1 Project management plan  Scope management plan  Requirements management plan  Change management plan  Configuration management plan  Scope baseline  Performance measurement baseline .2 Project documents  Lessons learned register  Requirements documentation  Requirements traceabilityatrix 3 Work performance data 4 Organizational process assets  i)  bw  J  Figure 517. Control Scope: Inputs, Tools & Techniques, and Outputs  167 Project Management Plan  Project management plan Scope management plan Requirements management plan Change management plan Configuration management plan Scope baseline Performance measurement baseline  Project Documents  Project documents   Lessons learned register   Requirements documentation   Requirements traceability matrix  4.3 Direct and Manage Project Work   Work performance data  Enterprise/ Organization   Organizational process assets   Work performance information  45 Monitor and Control Project Work  Change requests  4.6 Perform Integrated Change Control  Project management plan updates 5.6 Scope management plan Control Scope baseline Scope Schedule baseline Cost baseline  Performanceeasurement baseline  Project documents  updates  Lessons learned register  Project Management Plan  Project Documents   Requirements documentation  Requirements traceability matrix  Figure 518. Control Scope: Data Flow Diagram  Controlling the project scope ensures all requested changes and recommended corrective or preventive actions are processed through the Perform Integrated Change Control process (see Section 4.6). Control Scope is also used to manage the actual changes when they occur and is integrated with the other control processes. The uncontrolled expansion to product or project scope without adjustments to time, cost, and resources is referred to as scope creep. Change is inevitable; therefore, some type of change control process is mandatory for every project.  168   5.6.1 CONTROL SCOPE: INPUTS   \"^^xsd:string .  <http://example.org/projectOntology/5.5.2_VALIDATE_SCOPE:_TOOLS_AND_TECHNIQUES > pr:Described_in \"[\\'Described in Section 4.4.3.1\\']\"^^xsd:string ;     rdfs:isDefinedBy \"  PROJECT DOCUMENTS UPDATES Project documents that may be updated as a result of carrying out this process include but are not limited to:   Lessons learned register. \"^^xsd:string ;     rdfs:subClassOf pr:5.2_COLLECT_REQUIREMENTS_TOOLS_AND_TECHNIQUES .  <http://example.org/projectOntology/5.5.3.2_WORK_PERFORMANCE_INFORMATION > pr:Described_in \"[\\'Described in Section 4.2.3.1\\', \\'Described in Section 4.2.3.1\\']\"^^xsd:string ;     rdfs:isDefinedBy \" . The requirements management plan describes how the project requirements will be managed.   Change management plan. \"^^xsd:string .  <http://example.org/projectOntology/5.5.3.3_CHANGE_REQUESTS > pr:Described_in \"[\\'Described in Section 4.2.3.1\\']\"^^xsd:string ;     rdfs:isDefinedBy \" . The scope baseline is compared to actual results to determine if a change, corrective action, or preventive action is necessary.   Performance measurement baseline. \"^^xsd:string .  <http://example.org/projectOntology/5.5.3.4_PROJECT_DOCUMENTS_UPDATES > pr:Described_in \"[\\'Described in Section 4.4.3.1\\']\"^^xsd:string ;     rdfs:isDefinedBy \"  PROJECT DOCUMENTS  Project documents that can be considered as inputs for this process include but are not limited to:   Lessons learned register. \"^^xsd:string .  <http://example.org/projectOntology/5.5.3_VALIDATE_SCOPE:_OUTPUTS > pr:Described_in \"[\\'Described in Section 4.2.3.1\\']\"^^xsd:string ;     rdfs:isDefinedBy \"  PROJECT MANAGEMENT PLAN  \"^^xsd:string ;     rdfs:subClassOf pr:5.3_DEFINE_SCOPE_OUTPUTS .  <http://example.org/projectOntology/5.5_VALIDATE_SCOPE > pr:Described_in \"[\\'Described in Section 8.3.2.3\\']\"^^xsd:string ;     rdfs:isDefinedBy \"  INSPECTION  \"^^xsd:string .  <http://example.org/projectOntology/5.6.1.3_WORK_PERFORMANCE_DATA > pr:Described_in \"[\\'Described in Section 4.5.2.2\\', \\'Described in Section 4.5.2.2\\']\"^^xsd:string ;     rdfs:isDefinedBy \"  DATA ANALYSIS Data analysis techniques that can be used in the Control Scope process include but are not limited to:   Variance analysis. \"^^xsd:string .  <http://example.org/projectOntology/5.6.2.1_DATA_ANALYSIS > pr:Described_in \"[\\'Described in Section 4.3.3.4\\']\"^^xsd:string ;     rdfs:isDefinedBy \"  CHANGE REQUESTS  \"^^xsd:string .  <http://example.org/projectOntology/5.6.3.2_CHANGE_REQUESTS > pr:Described_in \"[\\'Described in Section 6.5.3.1\\', \\'Described in Section 7.3.3.1\\', \\'Described in Section 4.2.3.1\\']\"^^xsd:string ;     rdfs:isDefinedBy \" . Changes to the scope baseline are incorporated in response to approved changes in scope, scope statement, the WBS, or the WBS dictionary. In some cases, scope variances can be so severe that a revised scope baseline is needed to provide a realistic basis for performance measurement.   Schedule baseline. \"^^xsd:string .  <http://example.org/projectOntology/5.6.3.3_PROJECT_MANAGEMENT_PLAN_UPDATES > pr:Described_in \"[\\'Described in Section 4.4.3.1\\']\"^^xsd:string ;     rdfs:isDefinedBy \"  PROJECT DOCUMENTS UPDATES Project documents that may be updated as a result of carrying out this process include but are not limited to:   Lessons learned register. \"^^xsd:string .  pr:5.6_CONTROL_SCOPE_INPUTS rdfs:subClassOf pr:5.6_CONTROL_SCOPE .  pr:5.6_CONTROL_SCOPE_OUTPUTS rdfs:subClassOf pr:5.6_CONTROL_SCOPE .  pr:5.6_CONTROL_SCOPE_TOOLS_AND_TECHNIQUES rdfs:subClassOf pr:5.6_CONTROL_SCOPE .  pr:project_document_example_project_document pr:can_be_consider pr:input_process ;     rdfs:subClassOf pr:_Autre_ .  pr:5.1_PLAN_SCOPE_MANAGEMENT_INPUTS rdfs:subClassOf pr:5.1_PLAN_SCOPE_MANAGEMENT .  pr:5.2_COLLECT_REQUIREMENTS_TOOLS_AND_TECHNIQUES rdfs:subClassOf pr:5.2_COLLECT_REQUIREMENTS .  pr:5.3_DEFINE_SCOPE_OUTPUTS rdfs:subClassOf pr:5.3_DEFINE_SCOPE .  pr:input_process rdfs:subClassOf pr:_Autre_ .  pr:5.1_PLAN_SCOPE_MANAGEMENT rdfs:subClassOf pr:project_scope_management .  pr:5.2_COLLECT_REQUIREMENTS rdfs:subClassOf pr:project_scope_management .  pr:5.3_DEFINE_SCOPE rdfs:subClassOf pr:project_scope_management .  pr:5.4_Create_WBS rdfs:subClassOf pr:project_scope_management .  pr:5.6_CONTROL_SCOPE rdfs:subClassOf pr:project_scope_management .  '"
            ],
            "application/vnd.google.colaboratory.intrinsic+json": {
              "type": "string"
            }
          },
          "metadata": {},
          "execution_count": 114
        }
      ]
    },
    {
      "cell_type": "code",
      "source": [
        "essai = data1.split('>')"
      ],
      "metadata": {
        "id": "m7MD5Yz6LEMS"
      },
      "execution_count": null,
      "outputs": []
    },
    {
      "cell_type": "code",
      "source": [
        "df = pd.DataFrame(essai, columns = ['output'])\n",
        "df.head()"
      ],
      "metadata": {
        "colab": {
          "base_uri": "https://localhost:8080/",
          "height": 206
        },
        "id": "pQjWK-mdLYbn",
        "outputId": "f10e4f7d-042f-468c-da6b-9148e20b0f7f"
      },
      "execution_count": null,
      "outputs": [
        {
          "output_type": "execute_result",
          "data": {
            "text/plain": [
              "                                              output\n",
              "0       @prefix owl: <http://www.w3.org/2002/07/owl#\n",
              "1   . @prefix pr: <http://example.org/projectOnto...\n",
              "2   . @prefix rdfs: <http://www.w3.org/2000/01/rd...\n",
              "3   . @prefix xsd: <http://www.w3.org/2001/XMLSch...\n",
              "4   .  pr: a owl:Ontology .  <http://example.org/..."
            ],
            "text/html": [
              "\n",
              "  <div id=\"df-4cb29042-59bd-41a1-bd27-4064eb3e4f12\">\n",
              "    <div class=\"colab-df-container\">\n",
              "      <div>\n",
              "<style scoped>\n",
              "    .dataframe tbody tr th:only-of-type {\n",
              "        vertical-align: middle;\n",
              "    }\n",
              "\n",
              "    .dataframe tbody tr th {\n",
              "        vertical-align: top;\n",
              "    }\n",
              "\n",
              "    .dataframe thead th {\n",
              "        text-align: right;\n",
              "    }\n",
              "</style>\n",
              "<table border=\"1\" class=\"dataframe\">\n",
              "  <thead>\n",
              "    <tr style=\"text-align: right;\">\n",
              "      <th></th>\n",
              "      <th>output</th>\n",
              "    </tr>\n",
              "  </thead>\n",
              "  <tbody>\n",
              "    <tr>\n",
              "      <th>0</th>\n",
              "      <td>@prefix owl: &lt;http://www.w3.org/2002/07/owl#</td>\n",
              "    </tr>\n",
              "    <tr>\n",
              "      <th>1</th>\n",
              "      <td>. @prefix pr: &lt;http://example.org/projectOnto...</td>\n",
              "    </tr>\n",
              "    <tr>\n",
              "      <th>2</th>\n",
              "      <td>. @prefix rdfs: &lt;http://www.w3.org/2000/01/rd...</td>\n",
              "    </tr>\n",
              "    <tr>\n",
              "      <th>3</th>\n",
              "      <td>. @prefix xsd: &lt;http://www.w3.org/2001/XMLSch...</td>\n",
              "    </tr>\n",
              "    <tr>\n",
              "      <th>4</th>\n",
              "      <td>.  pr: a owl:Ontology .  &lt;http://example.org/...</td>\n",
              "    </tr>\n",
              "  </tbody>\n",
              "</table>\n",
              "</div>\n",
              "      <button class=\"colab-df-convert\" onclick=\"convertToInteractive('df-4cb29042-59bd-41a1-bd27-4064eb3e4f12')\"\n",
              "              title=\"Convert this dataframe to an interactive table.\"\n",
              "              style=\"display:none;\">\n",
              "        \n",
              "  <svg xmlns=\"http://www.w3.org/2000/svg\" height=\"24px\"viewBox=\"0 0 24 24\"\n",
              "       width=\"24px\">\n",
              "    <path d=\"M0 0h24v24H0V0z\" fill=\"none\"/>\n",
              "    <path d=\"M18.56 5.44l.94 2.06.94-2.06 2.06-.94-2.06-.94-.94-2.06-.94 2.06-2.06.94zm-11 1L8.5 8.5l.94-2.06 2.06-.94-2.06-.94L8.5 2.5l-.94 2.06-2.06.94zm10 10l.94 2.06.94-2.06 2.06-.94-2.06-.94-.94-2.06-.94 2.06-2.06.94z\"/><path d=\"M17.41 7.96l-1.37-1.37c-.4-.4-.92-.59-1.43-.59-.52 0-1.04.2-1.43.59L10.3 9.45l-7.72 7.72c-.78.78-.78 2.05 0 2.83L4 21.41c.39.39.9.59 1.41.59.51 0 1.02-.2 1.41-.59l7.78-7.78 2.81-2.81c.8-.78.8-2.07 0-2.86zM5.41 20L4 18.59l7.72-7.72 1.47 1.35L5.41 20z\"/>\n",
              "  </svg>\n",
              "      </button>\n",
              "      \n",
              "  <style>\n",
              "    .colab-df-container {\n",
              "      display:flex;\n",
              "      flex-wrap:wrap;\n",
              "      gap: 12px;\n",
              "    }\n",
              "\n",
              "    .colab-df-convert {\n",
              "      background-color: #E8F0FE;\n",
              "      border: none;\n",
              "      border-radius: 50%;\n",
              "      cursor: pointer;\n",
              "      display: none;\n",
              "      fill: #1967D2;\n",
              "      height: 32px;\n",
              "      padding: 0 0 0 0;\n",
              "      width: 32px;\n",
              "    }\n",
              "\n",
              "    .colab-df-convert:hover {\n",
              "      background-color: #E2EBFA;\n",
              "      box-shadow: 0px 1px 2px rgba(60, 64, 67, 0.3), 0px 1px 3px 1px rgba(60, 64, 67, 0.15);\n",
              "      fill: #174EA6;\n",
              "    }\n",
              "\n",
              "    [theme=dark] .colab-df-convert {\n",
              "      background-color: #3B4455;\n",
              "      fill: #D2E3FC;\n",
              "    }\n",
              "\n",
              "    [theme=dark] .colab-df-convert:hover {\n",
              "      background-color: #434B5C;\n",
              "      box-shadow: 0px 1px 3px 1px rgba(0, 0, 0, 0.15);\n",
              "      filter: drop-shadow(0px 1px 2px rgba(0, 0, 0, 0.3));\n",
              "      fill: #FFFFFF;\n",
              "    }\n",
              "  </style>\n",
              "\n",
              "      <script>\n",
              "        const buttonEl =\n",
              "          document.querySelector('#df-4cb29042-59bd-41a1-bd27-4064eb3e4f12 button.colab-df-convert');\n",
              "        buttonEl.style.display =\n",
              "          google.colab.kernel.accessAllowed ? 'block' : 'none';\n",
              "\n",
              "        async function convertToInteractive(key) {\n",
              "          const element = document.querySelector('#df-4cb29042-59bd-41a1-bd27-4064eb3e4f12');\n",
              "          const dataTable =\n",
              "            await google.colab.kernel.invokeFunction('convertToInteractive',\n",
              "                                                     [key], {});\n",
              "          if (!dataTable) return;\n",
              "\n",
              "          const docLinkHtml = 'Like what you see? Visit the ' +\n",
              "            '<a target=\"_blank\" href=https://colab.research.google.com/notebooks/data_table.ipynb>data table notebook</a>'\n",
              "            + ' to learn more about interactive tables.';\n",
              "          element.innerHTML = '';\n",
              "          dataTable['output_type'] = 'display_data';\n",
              "          await google.colab.output.renderOutput(dataTable, element);\n",
              "          const docLink = document.createElement('div');\n",
              "          docLink.innerHTML = docLinkHtml;\n",
              "          element.appendChild(docLink);\n",
              "        }\n",
              "      </script>\n",
              "    </div>\n",
              "  </div>\n",
              "  "
            ]
          },
          "metadata": {},
          "execution_count": 119
        }
      ]
    },
    {
      "cell_type": "code",
      "source": [
        "import nltk\n",
        "nltk.download('stopwords')\n",
        "nltk.download('punkt')"
      ],
      "metadata": {
        "colab": {
          "base_uri": "https://localhost:8080/"
        },
        "id": "Os7n-myDMPgs",
        "outputId": "0af22451-7301-4f71-bfb1-83b07afb6b9a"
      },
      "execution_count": null,
      "outputs": [
        {
          "output_type": "stream",
          "name": "stderr",
          "text": [
            "[nltk_data] Downloading package stopwords to /root/nltk_data...\n",
            "[nltk_data]   Package stopwords is already up-to-date!\n",
            "[nltk_data] Downloading package punkt to /root/nltk_data...\n",
            "[nltk_data]   Package punkt is already up-to-date!\n"
          ]
        },
        {
          "output_type": "execute_result",
          "data": {
            "text/plain": [
              "True"
            ]
          },
          "metadata": {},
          "execution_count": 120
        }
      ]
    },
    {
      "cell_type": "code",
      "source": [
        "nltk.download('wordnet')\n",
        "nltk.download('omw-1.4')"
      ],
      "metadata": {
        "colab": {
          "base_uri": "https://localhost:8080/"
        },
        "id": "MEBfCEdQMWh9",
        "outputId": "22667cb4-d91d-4575-9090-627954121ce7"
      },
      "execution_count": null,
      "outputs": [
        {
          "output_type": "stream",
          "name": "stderr",
          "text": [
            "[nltk_data] Downloading package wordnet to /root/nltk_data...\n",
            "[nltk_data]   Package wordnet is already up-to-date!\n",
            "[nltk_data] Downloading package omw-1.4 to /root/nltk_data...\n",
            "[nltk_data]   Package omw-1.4 is already up-to-date!\n"
          ]
        },
        {
          "output_type": "execute_result",
          "data": {
            "text/plain": [
              "True"
            ]
          },
          "metadata": {},
          "execution_count": 121
        }
      ]
    },
    {
      "cell_type": "code",
      "source": [
        "nlp = spacy.load('en_core_web_sm',disable=['ner','textcat'])"
      ],
      "metadata": {
        "colab": {
          "base_uri": "https://localhost:8080/"
        },
        "id": "hSkoJAqnMCDI",
        "outputId": "76dae519-d07a-41cc-be86-6421b844877a"
      },
      "execution_count": null,
      "outputs": [
        {
          "output_type": "stream",
          "name": "stderr",
          "text": [
            "/usr/local/lib/python3.7/dist-packages/spacy/language.py:1899: UserWarning: [W123] Argument disable with value ['ner', 'textcat'] is used instead of ['senter'] as specified in the config. Be aware that this might affect other components in your pipeline.\n",
            "  config_value=config[\"nlp\"][key],\n"
          ]
        }
      ]
    },
    {
      "cell_type": "code",
      "source": [
        "STOPWORDS = set(stopwords.words('english'))\n",
        "MIN_WORDS = 4\n",
        "MAX_WORDS = 200\n",
        "\n",
        "PATTERN_PUNC = re.compile(r\"[^\\w\\s]\")\n",
        "\n",
        "\n",
        "def tokenize(sentence, min_words=MIN_WORDS, max_words=MAX_WORDS, stopwords=STOPWORDS, lemmatize=True):\n",
        "\n",
        "    if lemmatize:\n",
        "        stemmer = WordNetLemmatizer()\n",
        "        tokens = [stemmer.lemmatize(w) for w in word_tokenize(sentence)]\n",
        "    else:\n",
        "        tokens = [w for w in word_tokenize(sentence)]\n",
        "    token = [w for w in tokens if (len(w) > min_words and len(w) < max_words\n",
        "                                                        and w not in stopwords)]\n",
        "    return tokens    \n",
        "\n",
        "\n",
        "def clean(df):\n",
        "\n",
        "    df['tokenizedoutput'] = df['output'].apply(lambda x: tokenize(x, min_words=MIN_WORDS, max_words=MAX_WORDS, stopwords=STOPWORDS, lemmatize=True))\n",
        "    return df\n",
        "\n",
        "df = clean(df)\n"
      ],
      "metadata": {
        "id": "M8mcEVZJMbFx"
      },
      "execution_count": null,
      "outputs": []
    },
    {
      "cell_type": "code",
      "source": [
        "query = 'scope' "
      ],
      "metadata": {
        "id": "Ck3J_Y3TQpc1"
      },
      "execution_count": null,
      "outputs": []
    },
    {
      "cell_type": "code",
      "source": [
        "model = SentenceTransformer('paraphrase-MiniLM-L6-v2')\n",
        "corpus_embeddings = model.encode(df.output.values, convert_to_tensor=True)\n",
        "query_embedding = model.encode(query, convert_to_tensor=True)"
      ],
      "metadata": {
        "id": "rtrybwwZQw47"
      },
      "execution_count": null,
      "outputs": []
    },
    {
      "cell_type": "code",
      "source": [
        "cos_scores = util.pytorch_cos_sim(query_embedding, corpus_embeddings)[0]\n",
        "top_results = torch.topk(cos_scores, k=8) #tnajem tbadel el K bech tet7akem kadeh men affichage wala resultat pour ta recherche\n",
        "for score, idx in zip(top_results[0], top_results[1]):\n",
        "    score = score.cpu().data.numpy() \n",
        "    idx = idx.cpu().data.numpy()\n",
        "    display(df['output'].iloc[idx])"
      ],
      "metadata": {
        "colab": {
          "base_uri": "https://localhost:8080/",
          "height": 424
        },
        "id": "-8xmQfBOQ2EF",
        "outputId": "06b446fd-ca9c-4c19-a1dd-b697272321b3"
      },
      "execution_count": null,
      "outputs": [
        {
          "output_type": "display_data",
          "data": {
            "text/plain": [
              "',         <http://example.org/projectOntology/5.3.1_DEFINE_SCOPE:_INPUTS '"
            ],
            "application/vnd.google.colaboratory.intrinsic+json": {
              "type": "string"
            }
          },
          "metadata": {}
        },
        {
          "output_type": "display_data",
          "data": {
            "text/plain": [
              "' rdfs:isDefinedBy \"  SCOPE MANAGEMENT PLAN  The scope management plan is a component of the project management plan that describes how the scope will be defined, developed, monitored, controlled, and validated. The components of a scope management plan include:   Process for preparing a project scope statement;   Process that enables the creation of the WBS from the detailed project scope statement;   Process that establishes how the scope baseline will be approved and maintained; and   Process that specifies how formal acceptance of the completed project deliverables will be obtained.  The scope management plan can be formal or informal, broadly framed or highly detailed, based on the needsf the project.   \"^^xsd:string .  <http://example.org/projectOntology/5.1.2.2_DATA_ANALYSIS '"
            ],
            "application/vnd.google.colaboratory.intrinsic+json": {
              "type": "string"
            }
          },
          "metadata": {}
        },
        {
          "output_type": "display_data",
          "data": {
            "text/plain": [
              "' rdfs:isDefinedBy \"  PROJECT SCOPE STATEMENT  The project scope statement is the description of the project scope, major deliverables, assumptions, and constraints. The project scope statement documents the entire scope, including project and product scope. It describes the project’s deliverables in detail. It also provides a common understanding of the project scope among project stakeholders. It may contain explicit scope exclusions that can assist in managing stakeholder expectations. It enables the project team to perform more detailed planning, guides the project team’s work during execution, and provides the baseline for evaluating whether requests for changes or additional work are contained within or outside the projects boundaries.  The degree and level of detail to which the project scope statement defines the work that will be performed and the work that is excluded can help determine how well the project management team can control the overall project scope. The detailed project scope statement, either directly or by reference to other documents, includes the following:   Product scope description. Progressively elaborates the characteristics of the product, service, or result described in the project charter and requirements documentation.   Deliverables. Any unique and verifiable product, result, or capability to perform a service that is required to be produced to complete a process, phase, or project. Deliverables also include ancillary results, such as project management reports and documentation. These deliverables may be described at a summary levelr in great detail.   Acceptance criteria. A set of conditions that is required to be met before deliverables are accepted.   Project exclusions. Identifies what is excluded from the project. Explicitly stating what is out of scope for the project helps manage stakeholders’ expectations and can reduce scope creep.  Although the project charter and the project scope statement are sometimes perceived as containing a certain degree of redundancy, they are different in the level of detail contained in each. The project charter contains high level information, while the project scope statement contains a detailed description of the scope components. These components are progressively elaborated throughout the project. Table 51 describes some of the key elements for each document.  154  Table 51. Elements of the Project Charter and Project Scope Statement  Project Charter  Project purpose  Measurable project objectives and related success criteria  Highlevel requirements  Highlevel project description, boundaries,  Project Scope Statement  Project scope description (progressively elaborated)  Project deliverables Acceptance criteria  Project exclusions  and key deliverables  Overall project risk  Summary milestone schedule Preapproved financial resources Key stakeholder list  Project approval requirements (i.e., what constitutes success, who decides the project is successful, who signs off on the project)  Project exit criteria (i.e., what are the conditions to be met in order to close or to cancel the project or phase  Assigned project manager, responsibility, and authority level  Name and authority of the sponsor or other person(s) authorizing the project charter   \"^^xsd:string .  <http://example.org/projectOntology/5.3.1.5_ORGANIZATIONAL_PROCE_AETS '"
            ],
            "application/vnd.google.colaboratory.intrinsic+json": {
              "type": "string"
            }
          },
          "metadata": {}
        },
        {
          "output_type": "display_data",
          "data": {
            "text/plain": [
              "' rdfs:isDefinedBy \"  SCOPE BASELINE  The scope baseline is the approved version of a scope statement, WBS, and its associated WBS dictionary, which can be changed only through formal change control procedures and is used as a basis for comparison. It is a component of the project management plan. Components of the scope baseline include:   Project scope statement. The project scope statement includes the description of the project scope, major deliverables, assumptions, and constraints (Section  \"^^xsd:string .  <http://example.org/projectOntology/5.5.1.1_PROJECT_MANAGEMENT_PLAN '"
            ],
            "application/vnd.google.colaboratory.intrinsic+json": {
              "type": "string"
            }
          },
          "metadata": {}
        },
        {
          "output_type": "display_data",
          "data": {
            "text/plain": [
              "' rdfs:isDefinedBy \" . The scope management plan may be updated to reflect a change in how the scope is managed.   Scope baseline. Described in Section  \"^^xsd:string .  <http://example.org/projectOntology/5.6.3.4_PROJECT_DOCUMENTS_UPDATES '"
            ],
            "application/vnd.google.colaboratory.intrinsic+json": {
              "type": "string"
            }
          },
          "metadata": {}
        },
        {
          "output_type": "display_data",
          "data": {
            "text/plain": [
              "',         <http://example.org/projectOntology/5.3.2_DEFINE_SCOPE:_TOOLS_AND_TECHNIQUES '"
            ],
            "application/vnd.google.colaboratory.intrinsic+json": {
              "type": "string"
            }
          },
          "metadata": {}
        },
        {
          "output_type": "display_data",
          "data": {
            "text/plain": [
              "' rdfs:isDefinedBy \" , the scope management plan documents how the WBS will be created from the project scope statement.   \"^^xsd:string .  <http://example.org/projectOntology/5.3.2.3_DECISION_MAKING '"
            ],
            "application/vnd.google.colaboratory.intrinsic+json": {
              "type": "string"
            }
          },
          "metadata": {}
        },
        {
          "output_type": "display_data",
          "data": {
            "text/plain": [
              "' rdfs:isDefinedBy \" . The scope management plan contains information on how the project scope will be defined and developed.   Requirements management plan. Described in Section  \"^^xsd:string .  <http://example.org/projectOntology/5.1.2.3_MEETINGS '"
            ],
            "application/vnd.google.colaboratory.intrinsic+json": {
              "type": "string"
            }
          },
          "metadata": {}
        }
      ]
    },
    {
      "cell_type": "code",
      "source": [
        "dat=pd.DataFrame()"
      ],
      "metadata": {
        "id": "i90soCiYWLQS"
      },
      "execution_count": null,
      "outputs": []
    },
    {
      "cell_type": "code",
      "source": [
        "cos_scores = util.pytorch_cos_sim(query_embedding, corpus_embeddings)[0]\n",
        "top_results = torch.topk(cos_scores, k=8) #tnajem tbadel el K bech tet7akem kadeh men affichage wala resultat pour ta recherche\n",
        "for score, idx in zip(top_results[0], top_results[1]):\n",
        "    score = score.cpu().data.numpy() \n",
        "    idx = idx.cpu().data.numpy()\n",
        "    data=df['output'].iloc[idx]\n",
        "data"
      ],
      "metadata": {
        "colab": {
          "base_uri": "https://localhost:8080/",
          "height": 53
        },
        "id": "LYFtxjiAVOfa",
        "outputId": "56397aef-726d-456e-b513-c6e376eb8a9e"
      },
      "execution_count": null,
      "outputs": [
        {
          "output_type": "execute_result",
          "data": {
            "text/plain": [
              "' rdfs:isDefinedBy \" . The scope management plan contains information on how the project scope will be defined and developed.   Requirements management plan. Described in Section  \"^^xsd:string .  <http://example.org/projectOntology/5.1.2.3_MEETINGS '"
            ],
            "application/vnd.google.colaboratory.intrinsic+json": {
              "type": "string"
            }
          },
          "metadata": {},
          "execution_count": 128
        }
      ]
    },
    {
      "cell_type": "code",
      "source": [
        "data=data.split(\"'\")"
      ],
      "metadata": {
        "id": "jseMzHfvTqny"
      },
      "execution_count": null,
      "outputs": []
    },
    {
      "cell_type": "code",
      "source": [
        "df=pd.DataFrame(data)\n",
        "df"
      ],
      "metadata": {
        "id": "cx81XhVATqyF",
        "colab": {
          "base_uri": "https://localhost:8080/",
          "height": 81
        },
        "outputId": "0b8eaa21-35e6-4200-f0f0-fe4b8e268b62"
      },
      "execution_count": null,
      "outputs": [
        {
          "output_type": "execute_result",
          "data": {
            "text/plain": [
              "                                                   0\n",
              "0   rdfs:isDefinedBy \" . The scope management pla..."
            ],
            "text/html": [
              "\n",
              "  <div id=\"df-7878b043-03cd-4044-8004-63170a6f021c\">\n",
              "    <div class=\"colab-df-container\">\n",
              "      <div>\n",
              "<style scoped>\n",
              "    .dataframe tbody tr th:only-of-type {\n",
              "        vertical-align: middle;\n",
              "    }\n",
              "\n",
              "    .dataframe tbody tr th {\n",
              "        vertical-align: top;\n",
              "    }\n",
              "\n",
              "    .dataframe thead th {\n",
              "        text-align: right;\n",
              "    }\n",
              "</style>\n",
              "<table border=\"1\" class=\"dataframe\">\n",
              "  <thead>\n",
              "    <tr style=\"text-align: right;\">\n",
              "      <th></th>\n",
              "      <th>0</th>\n",
              "    </tr>\n",
              "  </thead>\n",
              "  <tbody>\n",
              "    <tr>\n",
              "      <th>0</th>\n",
              "      <td>rdfs:isDefinedBy \" . The scope management pla...</td>\n",
              "    </tr>\n",
              "  </tbody>\n",
              "</table>\n",
              "</div>\n",
              "      <button class=\"colab-df-convert\" onclick=\"convertToInteractive('df-7878b043-03cd-4044-8004-63170a6f021c')\"\n",
              "              title=\"Convert this dataframe to an interactive table.\"\n",
              "              style=\"display:none;\">\n",
              "        \n",
              "  <svg xmlns=\"http://www.w3.org/2000/svg\" height=\"24px\"viewBox=\"0 0 24 24\"\n",
              "       width=\"24px\">\n",
              "    <path d=\"M0 0h24v24H0V0z\" fill=\"none\"/>\n",
              "    <path d=\"M18.56 5.44l.94 2.06.94-2.06 2.06-.94-2.06-.94-.94-2.06-.94 2.06-2.06.94zm-11 1L8.5 8.5l.94-2.06 2.06-.94-2.06-.94L8.5 2.5l-.94 2.06-2.06.94zm10 10l.94 2.06.94-2.06 2.06-.94-2.06-.94-.94-2.06-.94 2.06-2.06.94z\"/><path d=\"M17.41 7.96l-1.37-1.37c-.4-.4-.92-.59-1.43-.59-.52 0-1.04.2-1.43.59L10.3 9.45l-7.72 7.72c-.78.78-.78 2.05 0 2.83L4 21.41c.39.39.9.59 1.41.59.51 0 1.02-.2 1.41-.59l7.78-7.78 2.81-2.81c.8-.78.8-2.07 0-2.86zM5.41 20L4 18.59l7.72-7.72 1.47 1.35L5.41 20z\"/>\n",
              "  </svg>\n",
              "      </button>\n",
              "      \n",
              "  <style>\n",
              "    .colab-df-container {\n",
              "      display:flex;\n",
              "      flex-wrap:wrap;\n",
              "      gap: 12px;\n",
              "    }\n",
              "\n",
              "    .colab-df-convert {\n",
              "      background-color: #E8F0FE;\n",
              "      border: none;\n",
              "      border-radius: 50%;\n",
              "      cursor: pointer;\n",
              "      display: none;\n",
              "      fill: #1967D2;\n",
              "      height: 32px;\n",
              "      padding: 0 0 0 0;\n",
              "      width: 32px;\n",
              "    }\n",
              "\n",
              "    .colab-df-convert:hover {\n",
              "      background-color: #E2EBFA;\n",
              "      box-shadow: 0px 1px 2px rgba(60, 64, 67, 0.3), 0px 1px 3px 1px rgba(60, 64, 67, 0.15);\n",
              "      fill: #174EA6;\n",
              "    }\n",
              "\n",
              "    [theme=dark] .colab-df-convert {\n",
              "      background-color: #3B4455;\n",
              "      fill: #D2E3FC;\n",
              "    }\n",
              "\n",
              "    [theme=dark] .colab-df-convert:hover {\n",
              "      background-color: #434B5C;\n",
              "      box-shadow: 0px 1px 3px 1px rgba(0, 0, 0, 0.15);\n",
              "      filter: drop-shadow(0px 1px 2px rgba(0, 0, 0, 0.3));\n",
              "      fill: #FFFFFF;\n",
              "    }\n",
              "  </style>\n",
              "\n",
              "      <script>\n",
              "        const buttonEl =\n",
              "          document.querySelector('#df-7878b043-03cd-4044-8004-63170a6f021c button.colab-df-convert');\n",
              "        buttonEl.style.display =\n",
              "          google.colab.kernel.accessAllowed ? 'block' : 'none';\n",
              "\n",
              "        async function convertToInteractive(key) {\n",
              "          const element = document.querySelector('#df-7878b043-03cd-4044-8004-63170a6f021c');\n",
              "          const dataTable =\n",
              "            await google.colab.kernel.invokeFunction('convertToInteractive',\n",
              "                                                     [key], {});\n",
              "          if (!dataTable) return;\n",
              "\n",
              "          const docLinkHtml = 'Like what you see? Visit the ' +\n",
              "            '<a target=\"_blank\" href=https://colab.research.google.com/notebooks/data_table.ipynb>data table notebook</a>'\n",
              "            + ' to learn more about interactive tables.';\n",
              "          element.innerHTML = '';\n",
              "          dataTable['output_type'] = 'display_data';\n",
              "          await google.colab.output.renderOutput(dataTable, element);\n",
              "          const docLink = document.createElement('div');\n",
              "          docLink.innerHTML = docLinkHtml;\n",
              "          element.appendChild(docLink);\n",
              "        }\n",
              "      </script>\n",
              "    </div>\n",
              "  </div>\n",
              "  "
            ]
          },
          "metadata": {},
          "execution_count": 130
        }
      ]
    },
    {
      "cell_type": "code",
      "source": [
        "df.to_csv('finale.csv')"
      ],
      "metadata": {
        "id": "dPar_1JUXMdQ"
      },
      "execution_count": null,
      "outputs": []
    },
    {
      "cell_type": "code",
      "source": [],
      "metadata": {
        "id": "Iu6YAhR8S5mc"
      },
      "execution_count": null,
      "outputs": []
    }
  ]
}